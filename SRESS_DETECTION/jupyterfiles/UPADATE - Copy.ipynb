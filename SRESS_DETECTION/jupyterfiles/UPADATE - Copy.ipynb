{
 "cells": [
  {
   "cell_type": "code",
   "execution_count": 151,
   "id": "646adcca",
   "metadata": {},
   "outputs": [],
   "source": [
    "22# !pip install numpy==1.20.* --user"
   ]
  },
  {
   "cell_type": "code",
   "execution_count": 152,
   "id": "ab00026f",
   "metadata": {
    "scrolled": true
   },
   "outputs": [],
   "source": [
    "from sklearn.ensemble import AdaBoostClassifier \n",
    "from sklearn.tree import DecisionTreeClassifier\n",
    "import pandas as pd\n",
    "from sklearn.ensemble import AdaBoostClassifier\n",
    "from sklearn.tree import DecisionTreeClassifier\n",
    "from sklearn import metrics\n",
    "from sklearn.tree import DecisionTreeClassifier\n",
    "from sklearn.model_selection import train_test_split\n",
    "from sklearn.metrics import roc_curve,roc_auc_score,f1_score\n",
    "from sklearn.ensemble import RandomForestClassifier\n",
    "from sklearn.metrics import confusion_matrix\n",
    "from sklearn.metrics import accuracy_score\n",
    "from sklearn.metrics import roc_curve\n",
    "from sklearn.metrics import f1_score\n",
    "from sklearn.metrics import precision_score,recall_score\n",
    "from sklearn.metrics import roc_auc_score,roc_curve\n",
    "import pandas as pd\n",
    "import numpy as np\n",
    "from sklearn.model_selection import train_test_split\n",
    "from sklearn.metrics import confusion_matrix\n",
    "import pickle\n",
    "from sklearn.preprocessing import LabelEncoder\n",
    "\n",
    "\n",
    "# Tuning\n",
    "from sklearn.model_selection import GridSearchCV\n",
    "\n",
    "# Feature Extraction\n",
    "from sklearn.feature_selection import RFE\n",
    "\n",
    "# Preprocessing\n",
    "from sklearn.preprocessing import MinMaxScaler, StandardScaler, Normalizer, Binarizer, LabelEncoder\n",
    "\n",
    "# Models\n",
    "from sklearn.discriminant_analysis import LinearDiscriminantAnalysis\n",
    "from sklearn.linear_model import LogisticRegression\n",
    "from sklearn.naive_bayes import GaussianNB\n",
    "from sklearn.svm import SVC\n",
    "from sklearn.neighbors import KNeighborsClassifier\n",
    "from sklearn.tree import DecisionTreeClassifier\n",
    "\n",
    "# Ensembles\n",
    "from sklearn.ensemble import RandomForestClassifier\n",
    "from sklearn.ensemble import BaggingClassifier\n",
    "from sklearn.ensemble import AdaBoostClassifier\n",
    "from sklearn.ensemble import GradientBoostingClassifier\n",
    "from sklearn.ensemble import ExtraTreesClassifier"
   ]
  },
  {
   "cell_type": "code",
   "execution_count": 153,
   "id": "510ef61d",
   "metadata": {},
   "outputs": [
    {
     "data": {
      "text/html": [
       "<div>\n",
       "<style scoped>\n",
       "    .dataframe tbody tr th:only-of-type {\n",
       "        vertical-align: middle;\n",
       "    }\n",
       "\n",
       "    .dataframe tbody tr th {\n",
       "        vertical-align: top;\n",
       "    }\n",
       "\n",
       "    .dataframe thead th {\n",
       "        text-align: right;\n",
       "    }\n",
       "</style>\n",
       "<table border=\"1\" class=\"dataframe\">\n",
       "  <thead>\n",
       "    <tr style=\"text-align: right;\">\n",
       "      <th></th>\n",
       "      <th>net_acc_mean</th>\n",
       "      <th>net_acc_std</th>\n",
       "      <th>net_acc_min</th>\n",
       "      <th>net_acc_max</th>\n",
       "      <th>ACC_x_mean</th>\n",
       "      <th>ACC_x_std</th>\n",
       "      <th>ACC_x_min</th>\n",
       "      <th>ACC_x_max</th>\n",
       "      <th>ACC_y_mean</th>\n",
       "      <th>ACC_y_std</th>\n",
       "      <th>...</th>\n",
       "      <th>age</th>\n",
       "      <th>height</th>\n",
       "      <th>weight</th>\n",
       "      <th>gender_ female</th>\n",
       "      <th>gender_ male</th>\n",
       "      <th>coffee_today_YES</th>\n",
       "      <th>sport_today_YES</th>\n",
       "      <th>smoker_NO</th>\n",
       "      <th>smoker_YES</th>\n",
       "      <th>feel_ill_today_YES</th>\n",
       "    </tr>\n",
       "  </thead>\n",
       "  <tbody>\n",
       "    <tr>\n",
       "      <th>0</th>\n",
       "      <td>0.029937</td>\n",
       "      <td>0.009942</td>\n",
       "      <td>0.000000</td>\n",
       "      <td>0.087383</td>\n",
       "      <td>0.029510</td>\n",
       "      <td>0.011145</td>\n",
       "      <td>-0.024082</td>\n",
       "      <td>0.087383</td>\n",
       "      <td>0.000020</td>\n",
       "      <td>0.000008</td>\n",
       "      <td>...</td>\n",
       "      <td>27</td>\n",
       "      <td>175</td>\n",
       "      <td>80</td>\n",
       "      <td>0</td>\n",
       "      <td>1</td>\n",
       "      <td>0</td>\n",
       "      <td>0</td>\n",
       "      <td>1</td>\n",
       "      <td>0</td>\n",
       "      <td>0</td>\n",
       "    </tr>\n",
       "    <tr>\n",
       "      <th>1</th>\n",
       "      <td>0.021986</td>\n",
       "      <td>0.015845</td>\n",
       "      <td>0.000000</td>\n",
       "      <td>0.071558</td>\n",
       "      <td>0.017352</td>\n",
       "      <td>0.020817</td>\n",
       "      <td>-0.037843</td>\n",
       "      <td>0.071558</td>\n",
       "      <td>0.000012</td>\n",
       "      <td>0.000014</td>\n",
       "      <td>...</td>\n",
       "      <td>27</td>\n",
       "      <td>175</td>\n",
       "      <td>80</td>\n",
       "      <td>0</td>\n",
       "      <td>1</td>\n",
       "      <td>0</td>\n",
       "      <td>0</td>\n",
       "      <td>1</td>\n",
       "      <td>0</td>\n",
       "      <td>0</td>\n",
       "    </tr>\n",
       "    <tr>\n",
       "      <th>2</th>\n",
       "      <td>0.020839</td>\n",
       "      <td>0.011034</td>\n",
       "      <td>0.002752</td>\n",
       "      <td>0.054356</td>\n",
       "      <td>0.020839</td>\n",
       "      <td>0.011034</td>\n",
       "      <td>0.002752</td>\n",
       "      <td>0.054356</td>\n",
       "      <td>0.000014</td>\n",
       "      <td>0.000008</td>\n",
       "      <td>...</td>\n",
       "      <td>27</td>\n",
       "      <td>175</td>\n",
       "      <td>80</td>\n",
       "      <td>0</td>\n",
       "      <td>1</td>\n",
       "      <td>0</td>\n",
       "      <td>0</td>\n",
       "      <td>1</td>\n",
       "      <td>0</td>\n",
       "      <td>0</td>\n",
       "    </tr>\n",
       "    <tr>\n",
       "      <th>3</th>\n",
       "      <td>0.034449</td>\n",
       "      <td>0.003185</td>\n",
       "      <td>0.013761</td>\n",
       "      <td>0.040595</td>\n",
       "      <td>0.034449</td>\n",
       "      <td>0.003185</td>\n",
       "      <td>0.013761</td>\n",
       "      <td>0.040595</td>\n",
       "      <td>0.000024</td>\n",
       "      <td>0.000002</td>\n",
       "      <td>...</td>\n",
       "      <td>27</td>\n",
       "      <td>175</td>\n",
       "      <td>80</td>\n",
       "      <td>0</td>\n",
       "      <td>1</td>\n",
       "      <td>0</td>\n",
       "      <td>0</td>\n",
       "      <td>1</td>\n",
       "      <td>0</td>\n",
       "      <td>0</td>\n",
       "    </tr>\n",
       "  </tbody>\n",
       "</table>\n",
       "<p>4 rows × 58 columns</p>\n",
       "</div>"
      ],
      "text/plain": [
       "   net_acc_mean  net_acc_std  net_acc_min  net_acc_max  ACC_x_mean  ACC_x_std  \\\n",
       "0      0.029937     0.009942     0.000000     0.087383    0.029510   0.011145   \n",
       "1      0.021986     0.015845     0.000000     0.071558    0.017352   0.020817   \n",
       "2      0.020839     0.011034     0.002752     0.054356    0.020839   0.011034   \n",
       "3      0.034449     0.003185     0.013761     0.040595    0.034449   0.003185   \n",
       "\n",
       "   ACC_x_min  ACC_x_max  ACC_y_mean  ACC_y_std  ...  age  height  weight  \\\n",
       "0  -0.024082   0.087383    0.000020   0.000008  ...   27     175      80   \n",
       "1  -0.037843   0.071558    0.000012   0.000014  ...   27     175      80   \n",
       "2   0.002752   0.054356    0.000014   0.000008  ...   27     175      80   \n",
       "3   0.013761   0.040595    0.000024   0.000002  ...   27     175      80   \n",
       "\n",
       "   gender_ female  gender_ male  coffee_today_YES  sport_today_YES  smoker_NO  \\\n",
       "0               0             1                 0                0          1   \n",
       "1               0             1                 0                0          1   \n",
       "2               0             1                 0                0          1   \n",
       "3               0             1                 0                0          1   \n",
       "\n",
       "   smoker_YES  feel_ill_today_YES  \n",
       "0           0                   0  \n",
       "1           0                   0  \n",
       "2           0                   0  \n",
       "3           0                   0  \n",
       "\n",
       "[4 rows x 58 columns]"
      ]
     },
     "execution_count": 153,
     "metadata": {},
     "output_type": "execute_result"
    }
   ],
   "source": [
    "import pandas as pd\n",
    "from sklearn import preprocessing\n",
    "import numpy as np\n",
    "df = pd.read_csv('merged.csv', index_col=0)\n",
    "df.head(4)"
   ]
  },
  {
   "cell_type": "code",
   "execution_count": 154,
   "id": "c7302d3b",
   "metadata": {},
   "outputs": [
    {
     "data": {
      "text/plain": [
       "Index(['net_acc_mean', 'net_acc_std', 'net_acc_min', 'net_acc_max',\n",
       "       'ACC_x_mean', 'ACC_x_std', 'ACC_x_min', 'ACC_x_max', 'ACC_y_mean',\n",
       "       'ACC_y_std', 'ACC_y_min', 'ACC_y_max', 'ACC_z_mean', 'ACC_z_std',\n",
       "       'ACC_z_min', 'ACC_z_max', 'BVP_mean', 'BVP_std', 'BVP_min', 'BVP_max',\n",
       "       'EDA_mean', 'EDA_std', 'EDA_min', 'EDA_max', 'EDA_phasic_mean',\n",
       "       'EDA_phasic_std', 'EDA_phasic_min', 'EDA_phasic_max', 'EDA_smna_mean',\n",
       "       'EDA_smna_std', 'EDA_smna_min', 'EDA_smna_max', 'EDA_tonic_mean',\n",
       "       'EDA_tonic_std', 'EDA_tonic_min', 'EDA_tonic_max', 'Resp_mean',\n",
       "       'Resp_std', 'Resp_min', 'Resp_max', 'TEMP_mean', 'TEMP_std', 'TEMP_min',\n",
       "       'TEMP_max', 'BVP_peak_freq', 'TEMP_slope', 'subject', 'label', 'age',\n",
       "       'height', 'weight', 'gender_ female', 'gender_ male',\n",
       "       'coffee_today_YES', 'sport_today_YES', 'smoker_NO', 'smoker_YES',\n",
       "       'feel_ill_today_YES'],\n",
       "      dtype='object')"
      ]
     },
     "execution_count": 154,
     "metadata": {},
     "output_type": "execute_result"
    }
   ],
   "source": [
    "df.columns"
   ]
  },
  {
   "cell_type": "code",
   "execution_count": 155,
   "id": "2c0a449b",
   "metadata": {},
   "outputs": [
    {
     "data": {
      "text/plain": [
       "array([0, 1, 2], dtype=int64)"
      ]
     },
     "execution_count": 155,
     "metadata": {},
     "output_type": "execute_result"
    }
   ],
   "source": [
    "np.unique(df['label'])"
   ]
  },
  {
   "cell_type": "code",
   "execution_count": 156,
   "id": "ac01ad62",
   "metadata": {},
   "outputs": [],
   "source": [
    "labels = {\n",
    "    0: \"Amused\",\n",
    "    1: \"Neutral\",\n",
    "    2: \"Stressed\"\n",
    "}"
   ]
  },
  {
   "cell_type": "code",
   "execution_count": 157,
   "id": "ab971788",
   "metadata": {},
   "outputs": [
    {
     "data": {
      "image/png": "[encoded data removed]",
      "text/plain": [
       "<Figure size 200x10000 with 2 Axes>"
      ]
     },
     "metadata": {},
     "output_type": "display_data"
    }
   ],
   "source": [
    "# nbconvert_remove\n",
    "\n",
    "import matplotlib.pyplot as plt\n",
    "import seaborn as sns\n",
    "\n",
    "plt.figure(figsize=(2,100))\n",
    "cor = df.corr()\n",
    "n_targets = len(df.columns)\n",
    "cor_target = cor['label'].values.reshape(n_targets, 1)\n",
    "cor_features = cor['label'].keys()\n",
    "ax = sns.heatmap(cor_target, annot=True, cmap=plt.cm.Accent_r)\n",
    "ax.set_yticklabels(cor_features)\n",
    "plt.show()"
   ]
  },
  {
   "cell_type": "code",
   "execution_count": 158,
   "id": "bd99ee7a",
   "metadata": {},
   "outputs": [
    {
     "data": {
      "text/plain": [
       "((1178, 12), (1178,))"
      ]
     },
     "execution_count": 158,
     "metadata": {},
     "output_type": "execute_result"
    }
   ],
   "source": [
    "# selected_feats =   [\n",
    "#     'BVP_mean', 'BVP_std', 'EDA_phasic_mean', 'EDA_phasic_min', 'EDA_smna_min', \n",
    "#     'EDA_tonic_mean', 'Resp_mean', 'Resp_std', 'TEMP_mean', 'TEMP_std', 'TEMP_slope',\n",
    "#     'BVP_peak_freq', 'age', 'height', 'weight'\n",
    "#     ]\n",
    "selected_feats =   [\n",
    "    'BVP_mean', 'BVP_std', 'EDA_phasic_mean', 'EDA_phasic_min', 'EDA_smna_min', \n",
    "    'EDA_tonic_mean', 'Resp_mean', 'Resp_std', 'TEMP_mean', 'TEMP_std', 'TEMP_slope',\n",
    "    'BVP_peak_freq'\n",
    "    ]\n",
    "\n",
    "x = df[selected_feats]\n",
    "y = df['label']\n",
    "\n",
    "x.shape, y.shape"
   ]
  },
  {
   "cell_type": "code",
   "execution_count": 159,
   "id": "b3f97b20",
   "metadata": {},
   "outputs": [],
   "source": [
    "# x.to_csv('data.csv', index=False)"
   ]
  },
  {
   "cell_type": "code",
   "execution_count": 160,
   "id": "c9769881",
   "metadata": {},
   "outputs": [
    {
     "data": {
      "text/html": [
       "<div>\n",
       "<style scoped>\n",
       "    .dataframe tbody tr th:only-of-type {\n",
       "        vertical-align: middle;\n",
       "    }\n",
       "\n",
       "    .dataframe tbody tr th {\n",
       "        vertical-align: top;\n",
       "    }\n",
       "\n",
       "    .dataframe thead th {\n",
       "        text-align: right;\n",
       "    }\n",
       "</style>\n",
       "<table border=\"1\" class=\"dataframe\">\n",
       "  <thead>\n",
       "    <tr style=\"text-align: right;\">\n",
       "      <th></th>\n",
       "      <th>BVP_mean</th>\n",
       "      <th>BVP_std</th>\n",
       "      <th>EDA_phasic_mean</th>\n",
       "      <th>EDA_phasic_min</th>\n",
       "      <th>EDA_smna_min</th>\n",
       "      <th>EDA_tonic_mean</th>\n",
       "      <th>Resp_mean</th>\n",
       "      <th>Resp_std</th>\n",
       "      <th>TEMP_mean</th>\n",
       "      <th>TEMP_std</th>\n",
       "      <th>TEMP_slope</th>\n",
       "      <th>BVP_peak_freq</th>\n",
       "    </tr>\n",
       "  </thead>\n",
       "  <tbody>\n",
       "    <tr>\n",
       "      <th>0</th>\n",
       "      <td>-0.181673</td>\n",
       "      <td>107.648359</td>\n",
       "      <td>1.824289</td>\n",
       "      <td>0.367977</td>\n",
       "      <td>5.229658e-08</td>\n",
       "      <td>1.232164</td>\n",
       "      <td>0.148184</td>\n",
       "      <td>2.935617</td>\n",
       "      <td>35.817091</td>\n",
       "      <td>0.012674</td>\n",
       "      <td>-0.000169</td>\n",
       "      <td>0.135670</td>\n",
       "    </tr>\n",
       "    <tr>\n",
       "      <th>1</th>\n",
       "      <td>-0.830147</td>\n",
       "      <td>118.742089</td>\n",
       "      <td>2.109146</td>\n",
       "      <td>0.539150</td>\n",
       "      <td>3.096902e-08</td>\n",
       "      <td>0.377615</td>\n",
       "      <td>0.037545</td>\n",
       "      <td>2.843123</td>\n",
       "      <td>35.797568</td>\n",
       "      <td>0.029901</td>\n",
       "      <td>-0.000789</td>\n",
       "      <td>0.095023</td>\n",
       "    </tr>\n",
       "    <tr>\n",
       "      <th>2</th>\n",
       "      <td>0.939683</td>\n",
       "      <td>42.190039</td>\n",
       "      <td>0.152828</td>\n",
       "      <td>0.006950</td>\n",
       "      <td>4.725602e-08</td>\n",
       "      <td>1.727696</td>\n",
       "      <td>-0.021862</td>\n",
       "      <td>1.700333</td>\n",
       "      <td>35.712909</td>\n",
       "      <td>0.027612</td>\n",
       "      <td>-0.000717</td>\n",
       "      <td>0.076880</td>\n",
       "    </tr>\n",
       "    <tr>\n",
       "      <th>3</th>\n",
       "      <td>0.107404</td>\n",
       "      <td>41.606872</td>\n",
       "      <td>0.177595</td>\n",
       "      <td>0.002789</td>\n",
       "      <td>2.787285e-08</td>\n",
       "      <td>0.987927</td>\n",
       "      <td>0.097563</td>\n",
       "      <td>1.483260</td>\n",
       "      <td>35.700811</td>\n",
       "      <td>0.019504</td>\n",
       "      <td>0.000075</td>\n",
       "      <td>0.140271</td>\n",
       "    </tr>\n",
       "    <tr>\n",
       "      <th>4</th>\n",
       "      <td>-0.073620</td>\n",
       "      <td>43.121633</td>\n",
       "      <td>0.035014</td>\n",
       "      <td>0.001144</td>\n",
       "      <td>5.174645e-08</td>\n",
       "      <td>0.772262</td>\n",
       "      <td>0.062545</td>\n",
       "      <td>1.501585</td>\n",
       "      <td>35.744727</td>\n",
       "      <td>0.019386</td>\n",
       "      <td>0.000442</td>\n",
       "      <td>0.149321</td>\n",
       "    </tr>\n",
       "    <tr>\n",
       "      <th>...</th>\n",
       "      <td>...</td>\n",
       "      <td>...</td>\n",
       "      <td>...</td>\n",
       "      <td>...</td>\n",
       "      <td>...</td>\n",
       "      <td>...</td>\n",
       "      <td>...</td>\n",
       "      <td>...</td>\n",
       "      <td>...</td>\n",
       "      <td>...</td>\n",
       "      <td>...</td>\n",
       "      <td>...</td>\n",
       "    </tr>\n",
       "    <tr>\n",
       "      <th>1173</th>\n",
       "      <td>0.111318</td>\n",
       "      <td>9.667118</td>\n",
       "      <td>0.005391</td>\n",
       "      <td>0.000659</td>\n",
       "      <td>5.959032e-08</td>\n",
       "      <td>-0.304354</td>\n",
       "      <td>-0.052268</td>\n",
       "      <td>3.253162</td>\n",
       "      <td>32.887818</td>\n",
       "      <td>0.014358</td>\n",
       "      <td>0.000181</td>\n",
       "      <td>0.153846</td>\n",
       "    </tr>\n",
       "    <tr>\n",
       "      <th>1174</th>\n",
       "      <td>0.038265</td>\n",
       "      <td>9.805945</td>\n",
       "      <td>0.010002</td>\n",
       "      <td>0.000590</td>\n",
       "      <td>1.290328e-07</td>\n",
       "      <td>-0.316615</td>\n",
       "      <td>0.020345</td>\n",
       "      <td>2.634920</td>\n",
       "      <td>32.895225</td>\n",
       "      <td>0.012794</td>\n",
       "      <td>-0.000037</td>\n",
       "      <td>0.144715</td>\n",
       "    </tr>\n",
       "    <tr>\n",
       "      <th>1175</th>\n",
       "      <td>-0.096324</td>\n",
       "      <td>9.154524</td>\n",
       "      <td>0.008592</td>\n",
       "      <td>0.000192</td>\n",
       "      <td>7.792061e-08</td>\n",
       "      <td>-0.299992</td>\n",
       "      <td>0.091023</td>\n",
       "      <td>5.967216</td>\n",
       "      <td>32.854000</td>\n",
       "      <td>0.022450</td>\n",
       "      <td>-0.000512</td>\n",
       "      <td>0.131222</td>\n",
       "    </tr>\n",
       "    <tr>\n",
       "      <th>1176</th>\n",
       "      <td>-0.021164</td>\n",
       "      <td>5.935253</td>\n",
       "      <td>0.004904</td>\n",
       "      <td>0.000789</td>\n",
       "      <td>1.037083e-07</td>\n",
       "      <td>-0.305336</td>\n",
       "      <td>-0.028371</td>\n",
       "      <td>2.809360</td>\n",
       "      <td>32.792342</td>\n",
       "      <td>0.020222</td>\n",
       "      <td>-0.000532</td>\n",
       "      <td>0.158282</td>\n",
       "    </tr>\n",
       "    <tr>\n",
       "      <th>1177</th>\n",
       "      <td>0.081216</td>\n",
       "      <td>5.770773</td>\n",
       "      <td>0.006322</td>\n",
       "      <td>0.000024</td>\n",
       "      <td>9.077770e-08</td>\n",
       "      <td>-0.313221</td>\n",
       "      <td>0.145435</td>\n",
       "      <td>2.641056</td>\n",
       "      <td>32.731636</td>\n",
       "      <td>0.016653</td>\n",
       "      <td>-0.000327</td>\n",
       "      <td>0.149321</td>\n",
       "    </tr>\n",
       "  </tbody>\n",
       "</table>\n",
       "<p>1178 rows × 12 columns</p>\n",
       "</div>"
      ],
      "text/plain": [
       "      BVP_mean     BVP_std  EDA_phasic_mean  EDA_phasic_min  EDA_smna_min  \\\n",
       "0    -0.181673  107.648359         1.824289        0.367977  5.229658e-08   \n",
       "1    -0.830147  118.742089         2.109146        0.539150  3.096902e-08   \n",
       "2     0.939683   42.190039         0.152828        0.006950  4.725602e-08   \n",
       "3     0.107404   41.606872         0.177595        0.002789  2.787285e-08   \n",
       "4    -0.073620   43.121633         0.035014        0.001144  5.174645e-08   \n",
       "...        ...         ...              ...             ...           ...   \n",
       "1173  0.111318    9.667118         0.005391        0.000659  5.959032e-08   \n",
       "1174  0.038265    9.805945         0.010002        0.000590  1.290328e-07   \n",
       "1175 -0.096324    9.154524         0.008592        0.000192  7.792061e-08   \n",
       "1176 -0.021164    5.935253         0.004904        0.000789  1.037083e-07   \n",
       "1177  0.081216    5.770773         0.006322        0.000024  9.077770e-08   \n",
       "\n",
       "      EDA_tonic_mean  Resp_mean  Resp_std  TEMP_mean  TEMP_std  TEMP_slope  \\\n",
       "0           1.232164   0.148184  2.935617  35.817091  0.012674   -0.000169   \n",
       "1           0.377615   0.037545  2.843123  35.797568  0.029901   -0.000789   \n",
       "2           1.727696  -0.021862  1.700333  35.712909  0.027612   -0.000717   \n",
       "3           0.987927   0.097563  1.483260  35.700811  0.019504    0.000075   \n",
       "4           0.772262   0.062545  1.501585  35.744727  0.019386    0.000442   \n",
       "...              ...        ...       ...        ...       ...         ...   \n",
       "1173       -0.304354  -0.052268  3.253162  32.887818  0.014358    0.000181   \n",
       "1174       -0.316615   0.020345  2.634920  32.895225  0.012794   -0.000037   \n",
       "1175       -0.299992   0.091023  5.967216  32.854000  0.022450   -0.000512   \n",
       "1176       -0.305336  -0.028371  2.809360  32.792342  0.020222   -0.000532   \n",
       "1177       -0.313221   0.145435  2.641056  32.731636  0.016653   -0.000327   \n",
       "\n",
       "      BVP_peak_freq  \n",
       "0          0.135670  \n",
       "1          0.095023  \n",
       "2          0.076880  \n",
       "3          0.140271  \n",
       "4          0.149321  \n",
       "...             ...  \n",
       "1173       0.153846  \n",
       "1174       0.144715  \n",
       "1175       0.131222  \n",
       "1176       0.158282  \n",
       "1177       0.149321  \n",
       "\n",
       "[1178 rows x 12 columns]"
      ]
     },
     "execution_count": 160,
     "metadata": {},
     "output_type": "execute_result"
    }
   ],
   "source": [
    "x"
   ]
  },
  {
   "cell_type": "code",
   "execution_count": 161,
   "id": "b7c19a0c",
   "metadata": {},
   "outputs": [
    {
     "data": {
      "text/plain": [
       "0       1\n",
       "1       1\n",
       "2       1\n",
       "3       1\n",
       "4       1\n",
       "       ..\n",
       "1173    0\n",
       "1174    0\n",
       "1175    0\n",
       "1176    0\n",
       "1177    0\n",
       "Name: label, Length: 1178, dtype: int64"
      ]
     },
     "execution_count": 161,
     "metadata": {},
     "output_type": "execute_result"
    }
   ],
   "source": [
    "y"
   ]
  },
  {
   "cell_type": "code",
   "execution_count": 162,
   "id": "ab73ef02",
   "metadata": {},
   "outputs": [],
   "source": [
    "x_train,x_test , y_train, y_test = train_test_split(x, y,test_size=0.2)"
   ]
  },
  {
   "cell_type": "code",
   "execution_count": 163,
   "id": "0a3c03b0",
   "metadata": {},
   "outputs": [
    {
     "name": "stdout",
     "output_type": "stream",
     "text": [
      "x_train shape:  (942, 12)\n",
      "x_test shape:  (236, 12)\n",
      "y_train shape:  (942,)\n",
      "y_test shape:  (236,)\n"
     ]
    }
   ],
   "source": [
    "print(\"x_train shape: \",x_train.shape)\n",
    "print(\"x_test shape: \",x_test.shape)\n",
    "print(\"y_train shape: \",y_train.shape)\n",
    "print(\"y_test shape: \",y_test.shape)"
   ]
  },
  {
   "cell_type": "code",
   "execution_count": 164,
   "id": "4601ec54",
   "metadata": {},
   "outputs": [],
   "source": [
    "import pandas as pd\n",
    "import numpy as np\n",
    "import seaborn as sns\n",
    "from sklearn.cluster import KMeans\n",
    "from sklearn.preprocessing import LabelEncoder\n",
    "from sklearn.linear_model import LogisticRegression\n",
    "import matplotlib.pyplot as plt\n",
    "from sklearn.model_selection import train_test_split\n",
    "from sklearn.metrics import accuracy_score\n",
    "from sklearn.linear_model import LinearRegression\n",
    "from sklearn.metrics import classification_report"
   ]
  },
  {
   "cell_type": "markdown",
   "id": "daf511bd",
   "metadata": {},
   "source": [
    "# Logistic Regression¶ "
   ]
  },
  {
   "cell_type": "code",
   "execution_count": 112,
   "id": "71233a2c",
   "metadata": {},
   "outputs": [
    {
     "name": "stdout",
     "output_type": "stream",
     "text": [
      "The accuracy score achieved using Logistic Regression is: 75.42 %\n"
     ]
    }
   ],
   "source": [
    "from sklearn.linear_model import LogisticRegression\n",
    "\n",
    "lr = LogisticRegression(solver='liblinear')\n",
    "\n",
    "\n",
    "lr.fit(x_train,y_train)#train model\n",
    "\n",
    "Y_pred_lr = lr.predict(x_test)\n",
    "\n",
    "score_lr = round(accuracy_score(Y_pred_lr,y_test)*100,2)\n",
    "\n",
    "print(\"The accuracy score achieved using Logistic Regression is: \"+str(score_lr)+\" %\")"
   ]
  },
  {
   "cell_type": "code",
   "execution_count": 113,
   "id": "e03515a6",
   "metadata": {},
   "outputs": [],
   "source": [
    "import pickle\n",
    "with open('model/LogisticRegression_pickle', 'wb') as f:\n",
    "    pickle.dump(lr,f)"
   ]
  },
  {
   "cell_type": "code",
   "execution_count": 114,
   "id": "e3456aa3",
   "metadata": {},
   "outputs": [
    {
     "name": "stdout",
     "output_type": "stream",
     "text": [
      "              precision    recall  f1-score   support\n",
      "\n",
      "           0       0.50      0.06      0.11        32\n",
      "           1       0.74      0.88      0.80       129\n",
      "           2       0.81      0.83      0.82        75\n",
      "\n",
      "    accuracy                           0.75       236\n",
      "   macro avg       0.68      0.59      0.58       236\n",
      "weighted avg       0.73      0.75      0.71       236\n",
      "\n"
     ]
    },
    {
     "data": {
      "text/plain": [
       "<AxesSubplot:title={'center':'Logistic_Regression'}>"
      ]
     },
     "execution_count": 114,
     "metadata": {},
     "output_type": "execute_result"
    },
    {
     "data": {
      "image/png": "[encoded data removed]",
      "text/plain": [
       "<Figure size 640x480 with 1 Axes>"
      ]
     },
     "metadata": {},
     "output_type": "display_data"
    }
   ],
   "source": [
    "import matplotlib.pyplot as plt\n",
    "import seaborn as sns\n",
    "\n",
    "print(classification_report(y_test,Y_pred_lr))\n",
    "lr_cm=confusion_matrix(y_test,Y_pred_lr)\n",
    "plt.title(\"Logistic_Regression\")\n",
    "sns.heatmap(lr_cm,annot=True,cmap=\"Blues\",fmt=\"d\",cbar=False)"
   ]
  },
  {
   "cell_type": "code",
   "execution_count": 115,
   "id": "f43bc1bf",
   "metadata": {},
   "outputs": [],
   "source": [
    "# import pickle\n",
    "# with open('model_MPH_LR_newest.sav','wb') as f:\n",
    "#     pickle.dump(lr,f)"
   ]
  },
  {
   "cell_type": "markdown",
   "id": "18d9501e",
   "metadata": {},
   "source": [
    "# SVM Linear "
   ]
  },
  {
   "cell_type": "code",
   "execution_count": 116,
   "id": "8d38a16d",
   "metadata": {},
   "outputs": [
    {
     "name": "stdout",
     "output_type": "stream",
     "text": [
      "The accuracy score achieved using Linear SVM is: 76.69 %\n"
     ]
    }
   ],
   "source": [
    "from sklearn import svm\n",
    "\n",
    "sv = svm.SVC(kernel='linear')\n",
    "\n",
    "sv.fit(x_train, y_train)\n",
    "\n",
    "Y_pred_svm = sv.predict(x_test)\n",
    "score_svm = round(accuracy_score(Y_pred_svm,y_test)*100,2)\n",
    "\n",
    "print(\"The accuracy score achieved using Linear SVM is: \"+str(score_svm)+\" %\")"
   ]
  },
  {
   "cell_type": "code",
   "execution_count": 117,
   "id": "6414dcee",
   "metadata": {},
   "outputs": [],
   "source": [
    "import pickle\n",
    "with open('model/svm_pickle', 'wb') as f:\n",
    "    pickle.dump(sv,f)"
   ]
  },
  {
   "cell_type": "code",
   "execution_count": 118,
   "id": "84e0089b",
   "metadata": {},
   "outputs": [
    {
     "name": "stdout",
     "output_type": "stream",
     "text": [
      "              precision    recall  f1-score   support\n",
      "\n",
      "           0       0.00      0.00      0.00        32\n",
      "           1       0.73      0.92      0.82       129\n",
      "           2       0.85      0.83      0.84        75\n",
      "\n",
      "    accuracy                           0.77       236\n",
      "   macro avg       0.53      0.58      0.55       236\n",
      "weighted avg       0.67      0.77      0.71       236\n",
      "\n"
     ]
    },
    {
     "data": {
      "text/plain": [
       "<AxesSubplot:title={'center':'SVM'}>"
      ]
     },
     "execution_count": 118,
     "metadata": {},
     "output_type": "execute_result"
    },
    {
     "data": {
      "image/png": "[encoded data removed]",
      "text/plain": [
       "<Figure size 640x480 with 1 Axes>"
      ]
     },
     "metadata": {},
     "output_type": "display_data"
    }
   ],
   "source": [
    "print(classification_report(y_test,Y_pred_svm))\n",
    "\n",
    "lr_cm=confusion_matrix(y_test,Y_pred_svm)\n",
    "plt.title(\"SVM\")\n",
    "sns.heatmap(lr_cm,annot=True,cmap=\"Blues\",fmt=\"d\",cbar=False)"
   ]
  },
  {
   "cell_type": "markdown",
   "id": "dbc3fc80",
   "metadata": {},
   "source": [
    "# Naive Bayes "
   ]
  },
  {
   "cell_type": "code",
   "execution_count": 119,
   "id": "e31a4983",
   "metadata": {},
   "outputs": [
    {
     "name": "stdout",
     "output_type": "stream",
     "text": [
      "The accuracy score achieved using Naive Bayes is: 62.71 %\n"
     ]
    }
   ],
   "source": [
    "from sklearn.naive_bayes import GaussianNB\n",
    "\n",
    "nb = GaussianNB()\n",
    "\n",
    "nb.fit(x_train,y_train)\n",
    "\n",
    "Y_pred_nb = nb.predict(x_test)\n",
    "\n",
    "score_nb = round(accuracy_score(Y_pred_nb,y_test)*100,2)\n",
    "\n",
    "print(\"The accuracy score achieved using Naive Bayes is: \"+str(score_nb)+\" %\")"
   ]
  },
  {
   "cell_type": "code",
   "execution_count": 120,
   "id": "8c143171",
   "metadata": {},
   "outputs": [],
   "source": [
    "import pickle\n",
    "with open('model/GaussianNB_pickle', 'wb') as f:\n",
    "    pickle.dump(nb,f)"
   ]
  },
  {
   "cell_type": "code",
   "execution_count": 121,
   "id": "e9914122",
   "metadata": {},
   "outputs": [
    {
     "name": "stdout",
     "output_type": "stream",
     "text": [
      "              precision    recall  f1-score   support\n",
      "\n",
      "           0       0.32      0.81      0.46        32\n",
      "           1       0.74      0.52      0.61       129\n",
      "           2       0.85      0.73      0.79        75\n",
      "\n",
      "    accuracy                           0.63       236\n",
      "   macro avg       0.64      0.69      0.62       236\n",
      "weighted avg       0.72      0.63      0.65       236\n",
      "\n"
     ]
    },
    {
     "data": {
      "text/plain": [
       "<AxesSubplot:title={'center':'Naive Bayes'}>"
      ]
     },
     "execution_count": 121,
     "metadata": {},
     "output_type": "execute_result"
    },
    {
     "data": {
      "image/png": "[encoded data removed]",
      "text/plain": [
       "<Figure size 640x480 with 1 Axes>"
      ]
     },
     "metadata": {},
     "output_type": "display_data"
    }
   ],
   "source": [
    "print(classification_report(y_test,Y_pred_nb))\n",
    "\n",
    "lr_cm=confusion_matrix(y_test,Y_pred_nb)\n",
    "plt.title(\"Naive Bayes\")\n",
    "sns.heatmap(lr_cm,annot=True,cmap=\"Blues\",fmt=\"d\",cbar=False)"
   ]
  },
  {
   "cell_type": "markdown",
   "id": "e1401ea4",
   "metadata": {},
   "source": [
    "# Decision Tree "
   ]
  },
  {
   "cell_type": "code",
   "execution_count": 122,
   "id": "962bca4c",
   "metadata": {},
   "outputs": [
    {
     "name": "stdout",
     "output_type": "stream",
     "text": [
      "The accuracy score achieved using Decision Tree is: 87.29 %\n"
     ]
    }
   ],
   "source": [
    "dt=DecisionTreeClassifier()\n",
    "dt.fit(x_train,y_train)\n",
    "Y_pred_dt = dt.predict(x_test)\n",
    "score_dt = round(accuracy_score(Y_pred_dt,y_test)*100,2)\n",
    "\n",
    "print(\"The accuracy score achieved using Decision Tree is: \"+str(score_dt)+\" %\")"
   ]
  },
  {
   "cell_type": "code",
   "execution_count": 123,
   "id": "508689c9",
   "metadata": {},
   "outputs": [],
   "source": [
    "import pickle\n",
    "with open('model/DecisionTreeClassifier_pickle', 'wb') as f:\n",
    "    pickle.dump(dt,f)"
   ]
  },
  {
   "cell_type": "code",
   "execution_count": 124,
   "id": "95289b37",
   "metadata": {},
   "outputs": [
    {
     "name": "stdout",
     "output_type": "stream",
     "text": [
      "              precision    recall  f1-score   support\n",
      "\n",
      "           0       0.71      0.78      0.75        32\n",
      "           1       0.89      0.88      0.88       129\n",
      "           2       0.92      0.91      0.91        75\n",
      "\n",
      "    accuracy                           0.87       236\n",
      "   macro avg       0.84      0.85      0.85       236\n",
      "weighted avg       0.88      0.87      0.87       236\n",
      "\n"
     ]
    },
    {
     "data": {
      "text/plain": [
       "<AxesSubplot:title={'center':'Decision Tree'}>"
      ]
     },
     "execution_count": 124,
     "metadata": {},
     "output_type": "execute_result"
    },
    {
     "data": {
      "image/png": "[encoded data removed]",
      "text/plain": [
       "<Figure size 640x480 with 1 Axes>"
      ]
     },
     "metadata": {},
     "output_type": "display_data"
    }
   ],
   "source": [
    "print(classification_report(y_test,Y_pred_dt))\n",
    "\n",
    "lr_cm=confusion_matrix(y_test,Y_pred_dt)\n",
    "plt.title(\"Decision Tree\")\n",
    "sns.heatmap(lr_cm,annot=True,cmap=\"Blues\",fmt=\"d\",cbar=False)"
   ]
  },
  {
   "cell_type": "markdown",
   "id": "1f4899dc",
   "metadata": {},
   "source": [
    "# Random Forest "
   ]
  },
  {
   "cell_type": "code",
   "execution_count": 125,
   "id": "cca949fa",
   "metadata": {},
   "outputs": [
    {
     "name": "stdout",
     "output_type": "stream",
     "text": [
      "building tree 1 of 10\n",
      "building tree 2 of 10\n",
      "building tree 3 of 10\n",
      "building tree 4 of 10\n",
      "building tree 5 of 10\n",
      "building tree 6 of 10\n",
      "building tree 7 of 10\n",
      "building tree 8 of 10\n",
      "building tree 9 of 10\n",
      "building tree 10 of 10\n",
      "The accuracy score achieved using Random Forest is: 89.83 %\n"
     ]
    },
    {
     "name": "stderr",
     "output_type": "stream",
     "text": [
      "[Parallel(n_jobs=2)]: Using backend ThreadingBackend with 2 concurrent workers.\n",
      "[Parallel(n_jobs=2)]: Done  10 out of  10 | elapsed:    0.0s finished\n",
      "[Parallel(n_jobs=2)]: Using backend ThreadingBackend with 2 concurrent workers.\n",
      "[Parallel(n_jobs=2)]: Done  10 out of  10 | elapsed:    0.0s finished\n",
      "[Parallel(n_jobs=2)]: Using backend ThreadingBackend with 2 concurrent workers.\n",
      "[Parallel(n_jobs=2)]: Done  10 out of  10 | elapsed:    0.0s finished\n"
     ]
    }
   ],
   "source": [
    "rfc=RandomForestClassifier(n_estimators=10,n_jobs=2,verbose=2)\n",
    "rfc.fit(x_train,y_train)\n",
    "score_rf=rfc.score(x_test,y_test)\n",
    "Y_pred_rf = rfc.predict(x_test)\n",
    "score_rf=round(accuracy_score(Y_pred_rf,y_test)*100,2)\n",
    "\n",
    "print(\"The accuracy score achieved using Random Forest is: \"+str(score_rf)+\" %\")"
   ]
  },
  {
   "cell_type": "code",
   "execution_count": 126,
   "id": "e0f0a641",
   "metadata": {},
   "outputs": [],
   "source": [
    "import pickle\n",
    "with open('model/RandomForest_pickle', 'wb') as f:\n",
    "    pickle.dump(rfc,f)\n",
    "    \n",
    "if __name__=='__main__':\n",
    "    with open('model/RandomForest_pickle', 'rb') as f:\n",
    "        rfc_users = pickle.load(f)"
   ]
  },
  {
   "cell_type": "code",
   "execution_count": 127,
   "id": "22c5ead9",
   "metadata": {},
   "outputs": [
    {
     "name": "stdout",
     "output_type": "stream",
     "text": [
      "              precision    recall  f1-score   support\n",
      "\n",
      "           0       0.71      0.78      0.75        32\n",
      "           1       0.89      0.88      0.88       129\n",
      "           2       0.92      0.91      0.91        75\n",
      "\n",
      "    accuracy                           0.87       236\n",
      "   macro avg       0.84      0.85      0.85       236\n",
      "weighted avg       0.88      0.87      0.87       236\n",
      "\n"
     ]
    },
    {
     "data": {
      "text/plain": [
       "<AxesSubplot:title={'center':'Random Forest'}>"
      ]
     },
     "execution_count": 127,
     "metadata": {},
     "output_type": "execute_result"
    },
    {
     "data": {
      "image/png": "[encoded data removed]",
      "text/plain": [
       "<Figure size 640x480 with 1 Axes>"
      ]
     },
     "metadata": {},
     "output_type": "display_data"
    }
   ],
   "source": [
    "print(classification_report(y_test,Y_pred_dt))\n",
    "\n",
    "lr_cm=confusion_matrix(y_test,Y_pred_dt)\n",
    "plt.title(\"Random Forest\")\n",
    "sns.heatmap(lr_cm,annot=True,cmap=\"Blues\",fmt=\"d\",cbar=False)"
   ]
  },
  {
   "cell_type": "markdown",
   "id": "fd8d2c29",
   "metadata": {},
   "source": [
    "# ADA Boost "
   ]
  },
  {
   "cell_type": "code",
   "execution_count": 128,
   "id": "2e69a978",
   "metadata": {},
   "outputs": [],
   "source": [
    "ada = AdaBoostClassifier(DecisionTreeClassifier(max_depth=9),n_estimators=150)\n",
    "ada.fit(x_train, y_train)\n",
    "\n",
    "ada.score(x_test,y_test)\n",
    "predictions = ada.predict(x_test)"
   ]
  },
  {
   "cell_type": "code",
   "execution_count": 129,
   "id": "9f264701",
   "metadata": {},
   "outputs": [
    {
     "name": "stdout",
     "output_type": "stream",
     "text": [
      "The accuracy score achieved using Ada Boost is: 89.83 %\n"
     ]
    }
   ],
   "source": [
    "score_ada = round(accuracy_score(predictions,y_test)*100,2)\n",
    "\n",
    "print(\"The accuracy score achieved using Ada Boost is: \"+str(score_ada)+\" %\")"
   ]
  },
  {
   "cell_type": "code",
   "execution_count": 130,
   "id": "20624cca",
   "metadata": {},
   "outputs": [],
   "source": [
    "import pickle\n",
    "with open('model/AdaBoost_pickle', 'wb') as f:\n",
    "    pickle.dump(ada,f)\n",
    "    \n",
    "if __name__=='__main__':\n",
    "    with open('model/AdaBoost_pickle', 'rb') as f:\n",
    "        ada_users = pickle.load(f)"
   ]
  },
  {
   "cell_type": "code",
   "execution_count": 131,
   "id": "21e9b369",
   "metadata": {},
   "outputs": [
    {
     "name": "stdout",
     "output_type": "stream",
     "text": [
      "              precision    recall  f1-score   support\n",
      "\n",
      "           0       0.95      0.59      0.73        32\n",
      "           1       0.88      0.94      0.91       129\n",
      "           2       0.91      0.96      0.94        75\n",
      "\n",
      "    accuracy                           0.90       236\n",
      "   macro avg       0.91      0.83      0.86       236\n",
      "weighted avg       0.90      0.90      0.89       236\n",
      "\n"
     ]
    },
    {
     "data": {
      "text/plain": [
       "<AxesSubplot:title={'center':'ADA Boost'}>"
      ]
     },
     "execution_count": 131,
     "metadata": {},
     "output_type": "execute_result"
    },
    {
     "data": {
      "image/png": "[encoded data removed]",
      "text/plain": [
       "<Figure size 640x480 with 1 Axes>"
      ]
     },
     "metadata": {},
     "output_type": "display_data"
    }
   ],
   "source": [
    "print(classification_report(y_test,predictions))\n",
    "\n",
    "lr_cm=confusion_matrix(y_test,predictions)\n",
    "plt.title(\"ADA Boost\")\n",
    "sns.heatmap(lr_cm,annot=True,cmap=\"Blues\",fmt=\"d\",cbar=False)"
   ]
  },
  {
   "cell_type": "markdown",
   "id": "48a40eb2",
   "metadata": {},
   "source": [
    "# Linear Discriminant Analysis "
   ]
  },
  {
   "cell_type": "code",
   "execution_count": 132,
   "id": "244af11f",
   "metadata": {},
   "outputs": [
    {
     "name": "stdout",
     "output_type": "stream",
     "text": [
      "The accuracy score achieved using Linear Discriminant Analysis is: 73.73 %\n"
     ]
    }
   ],
   "source": [
    "model = LinearDiscriminantAnalysis()\n",
    "model.fit(x_train, y_train)\n",
    "\n",
    "model.score(x_test,y_test)\n",
    "LDA_predictions = model.predict(x_test)\n",
    "\n",
    "\n",
    "score_LDA=round(accuracy_score(LDA_predictions,y_test)*100,2)\n",
    "\n",
    "print(\"The accuracy score achieved using Linear Discriminant Analysis is: \"+str(score_LDA)+\" %\")"
   ]
  },
  {
   "cell_type": "code",
   "execution_count": 133,
   "id": "74472cdc",
   "metadata": {},
   "outputs": [],
   "source": [
    "import pickle\n",
    "with open('model/LinearDiscriminantAnalysi_pickle', 'wb') as f:\n",
    "    pickle.dump(model,f)"
   ]
  },
  {
   "cell_type": "code",
   "execution_count": 134,
   "id": "3c76863c",
   "metadata": {},
   "outputs": [
    {
     "name": "stdout",
     "output_type": "stream",
     "text": [
      "              precision    recall  f1-score   support\n",
      "\n",
      "           0       0.38      0.25      0.30        32\n",
      "           1       0.73      0.81      0.77       129\n",
      "           2       0.85      0.81      0.83        75\n",
      "\n",
      "    accuracy                           0.74       236\n",
      "   macro avg       0.65      0.63      0.63       236\n",
      "weighted avg       0.72      0.74      0.73       236\n",
      "\n"
     ]
    },
    {
     "data": {
      "text/plain": [
       "<AxesSubplot:title={'center':'Linear Discriminant Analysis'}>"
      ]
     },
     "execution_count": 134,
     "metadata": {},
     "output_type": "execute_result"
    },
    {
     "data": {
      "image/png": "[encoded data removed]",
      "text/plain": [
       "<Figure size 640x480 with 1 Axes>"
      ]
     },
     "metadata": {},
     "output_type": "display_data"
    }
   ],
   "source": [
    "print(classification_report(y_test,LDA_predictions))\n",
    "\n",
    "lr_cm=confusion_matrix(y_test,LDA_predictions)\n",
    "plt.title(\"Linear Discriminant Analysis\")\n",
    "sns.heatmap(lr_cm,annot=True,cmap=\"Blues\",fmt=\"d\",cbar=False)"
   ]
  },
  {
   "cell_type": "markdown",
   "id": "de42d0f4",
   "metadata": {},
   "source": [
    "# KNeighbors Classifier "
   ]
  },
  {
   "cell_type": "code",
   "execution_count": 135,
   "id": "f0e46ca4",
   "metadata": {},
   "outputs": [
    {
     "name": "stdout",
     "output_type": "stream",
     "text": [
      "The accuracy score achieved using KNeighbors Classifier is: 76.27 %\n"
     ]
    }
   ],
   "source": [
    "KNC = KNeighborsClassifier()\n",
    "KNC.fit(x_train, y_train)\n",
    "\n",
    "KNC_predictions = KNC.predict(x_test)\n",
    "\n",
    "\n",
    "score_KNC=round(accuracy_score(KNC_predictions,y_test)*100,2)\n",
    "\n",
    "print(\"The accuracy score achieved using KNeighbors Classifier is: \"+str(score_KNC)+\" %\")"
   ]
  },
  {
   "cell_type": "code",
   "execution_count": 136,
   "id": "55f8bc31",
   "metadata": {},
   "outputs": [
    {
     "name": "stdout",
     "output_type": "stream",
     "text": [
      "              precision    recall  f1-score   support\n",
      "\n",
      "           0       0.62      0.56      0.59        32\n",
      "           1       0.79      0.81      0.80       129\n",
      "           2       0.77      0.77      0.77        75\n",
      "\n",
      "    accuracy                           0.76       236\n",
      "   macro avg       0.73      0.71      0.72       236\n",
      "weighted avg       0.76      0.76      0.76       236\n",
      "\n"
     ]
    },
    {
     "data": {
      "text/plain": [
       "<AxesSubplot:title={'center':'KNeighbors Classifier'}>"
      ]
     },
     "execution_count": 136,
     "metadata": {},
     "output_type": "execute_result"
    },
    {
     "data": {
      "image/png": "[encoded data removed]",
      "text/plain": [
       "<Figure size 640x480 with 1 Axes>"
      ]
     },
     "metadata": {},
     "output_type": "display_data"
    }
   ],
   "source": [
    "print(classification_report(y_test,KNC_predictions))\n",
    "\n",
    "lr_cm=confusion_matrix(y_test,KNC_predictions)\n",
    "plt.title(\"KNeighbors Classifier\")\n",
    "sns.heatmap(lr_cm,annot=True,cmap=\"Blues\",fmt=\"d\",cbar=False)"
   ]
  },
  {
   "cell_type": "code",
   "execution_count": 137,
   "id": "59b0b1d5",
   "metadata": {},
   "outputs": [],
   "source": [
    "import pickle\n",
    "with open('model/KNeighborsClassifier_pickle', 'wb') as f:\n",
    "    pickle.dump(KNC,f)\n",
    "    \n",
    "if __name__=='__main__':\n",
    "    with open('model/KNeighborsClassifier_pickle', 'rb') as f:\n",
    "        KNC_users = pickle.load(f)"
   ]
  },
  {
   "cell_type": "markdown",
   "id": "fb5a71b3",
   "metadata": {},
   "source": [
    "# Gradient Boosting Classifier "
   ]
  },
  {
   "cell_type": "code",
   "execution_count": 138,
   "id": "7a0f2456",
   "metadata": {},
   "outputs": [
    {
     "name": "stdout",
     "output_type": "stream",
     "text": [
      "The accuracy score achieved using Gradient Boosting Classifier is: 80.08 %\n"
     ]
    }
   ],
   "source": [
    "GBC = GradientBoostingClassifier(n_estimators=20, learning_rate=0.05, max_features=2, max_depth=2, random_state=0)\n",
    "GBC.fit(x_train, y_train)\n",
    "\n",
    "GBC_predictions = GBC.predict(x_test)\n",
    "\n",
    "\n",
    "score_GBC=round(accuracy_score(GBC_predictions,y_test)*100,2)\n",
    "\n",
    "print(\"The accuracy score achieved using Gradient Boosting Classifier is: \"+str(score_GBC)+\" %\")"
   ]
  },
  {
   "cell_type": "code",
   "execution_count": 139,
   "id": "db74e77b",
   "metadata": {},
   "outputs": [],
   "source": [
    "import pickle\n",
    "with open('model/GradientBoostingClassifier_pickle', 'wb') as f:\n",
    "    pickle.dump(GBC,f)"
   ]
  },
  {
   "cell_type": "code",
   "execution_count": 140,
   "id": "208b5215",
   "metadata": {},
   "outputs": [
    {
     "name": "stdout",
     "output_type": "stream",
     "text": [
      "              precision    recall  f1-score   support\n",
      "\n",
      "           0       0.00      0.00      0.00        32\n",
      "           1       0.75      0.97      0.85       129\n",
      "           2       0.91      0.85      0.88        75\n",
      "\n",
      "    accuracy                           0.80       236\n",
      "   macro avg       0.56      0.61      0.58       236\n",
      "weighted avg       0.70      0.80      0.74       236\n",
      "\n"
     ]
    },
    {
     "name": "stderr",
     "output_type": "stream",
     "text": [
      "C:\\Users\\sushant\\AppData\\Roaming\\Python\\Python38\\site-packages\\sklearn\\metrics\\_classification.py:1344: UndefinedMetricWarning: Precision and F-score are ill-defined and being set to 0.0 in labels with no predicted samples. Use `zero_division` parameter to control this behavior.\n",
      "  _warn_prf(average, modifier, msg_start, len(result))\n",
      "C:\\Users\\sushant\\AppData\\Roaming\\Python\\Python38\\site-packages\\sklearn\\metrics\\_classification.py:1344: UndefinedMetricWarning: Precision and F-score are ill-defined and being set to 0.0 in labels with no predicted samples. Use `zero_division` parameter to control this behavior.\n",
      "  _warn_prf(average, modifier, msg_start, len(result))\n",
      "C:\\Users\\sushant\\AppData\\Roaming\\Python\\Python38\\site-packages\\sklearn\\metrics\\_classification.py:1344: UndefinedMetricWarning: Precision and F-score are ill-defined and being set to 0.0 in labels with no predicted samples. Use `zero_division` parameter to control this behavior.\n",
      "  _warn_prf(average, modifier, msg_start, len(result))\n"
     ]
    },
    {
     "data": {
      "text/plain": [
       "<AxesSubplot:title={'center':'Gradient Boosting Classifier'}>"
      ]
     },
     "execution_count": 140,
     "metadata": {},
     "output_type": "execute_result"
    },
    {
     "data": {
      "image/png": "[encoded data removed]",
      "text/plain": [
       "<Figure size 640x480 with 1 Axes>"
      ]
     },
     "metadata": {},
     "output_type": "display_data"
    }
   ],
   "source": [
    "print(classification_report(y_test,GBC_predictions))\n",
    "\n",
    "lr_cm=confusion_matrix(y_test,GBC_predictions)\n",
    "plt.title(\"Gradient Boosting Classifier\")\n",
    "sns.heatmap(lr_cm,annot=True,cmap=\"Blues\",fmt=\"d\",cbar=False)"
   ]
  },
  {
   "cell_type": "markdown",
   "id": "6124c906",
   "metadata": {},
   "source": [
    "# ExtraTrees Classifier"
   ]
  },
  {
   "cell_type": "code",
   "execution_count": 141,
   "id": "fecfc006",
   "metadata": {},
   "outputs": [
    {
     "name": "stdout",
     "output_type": "stream",
     "text": [
      "The accuracy score achieved using ExtraTrees Classifier is: 90.68 %\n"
     ]
    }
   ],
   "source": [
    "ETC = ExtraTreesClassifier(n_estimators=100, random_state=0)\n",
    "ETC.fit(x_train, y_train)\n",
    "\n",
    "ETC_predictions = ETC.predict(x_test)\n",
    "\n",
    "\n",
    "score_ETC=round(accuracy_score(ETC_predictions,y_test)*100,2)\n",
    "\n",
    "print(\"The accuracy score achieved using ExtraTrees Classifier is: \"+str(score_ETC)+\" %\")"
   ]
  },
  {
   "cell_type": "code",
   "execution_count": 142,
   "id": "da343034",
   "metadata": {},
   "outputs": [
    {
     "name": "stdout",
     "output_type": "stream",
     "text": [
      "              precision    recall  f1-score   support\n",
      "\n",
      "           0       1.00      0.59      0.75        32\n",
      "           1       0.88      0.95      0.92       129\n",
      "           2       0.92      0.96      0.94        75\n",
      "\n",
      "    accuracy                           0.91       236\n",
      "   macro avg       0.94      0.84      0.87       236\n",
      "weighted avg       0.91      0.91      0.90       236\n",
      "\n"
     ]
    },
    {
     "data": {
      "text/plain": [
       "<AxesSubplot:title={'center':'ExtraTrees Classifier'}>"
      ]
     },
     "execution_count": 142,
     "metadata": {},
     "output_type": "execute_result"
    },
    {
     "data": {
      "image/png": "[encoded data removed]",
      "text/plain": [
       "<Figure size 640x480 with 1 Axes>"
      ]
     },
     "metadata": {},
     "output_type": "display_data"
    }
   ],
   "source": [
    "print(classification_report(y_test,ETC_predictions))\n",
    "\n",
    "lr_cm=confusion_matrix(y_test,ETC_predictions)\n",
    "plt.title(\"ExtraTrees Classifier\")\n",
    "sns.heatmap(lr_cm,annot=True,cmap=\"Blues\",fmt=\"d\",cbar=False)"
   ]
  },
  {
   "cell_type": "code",
   "execution_count": 143,
   "id": "bd7f083d",
   "metadata": {},
   "outputs": [],
   "source": [
    "import pickle\n",
    "with open('model/ExtraTreesClassifier_pickle', 'wb') as f:\n",
    "    pickle.dump(ETC,f)\n",
    "    \n",
    "if __name__=='__main__':\n",
    "    with open('model/ExtraTreesClassifier_pickle', 'rb') as f:\n",
    "        etc_users = pickle.load(f)"
   ]
  },
  {
   "cell_type": "markdown",
   "id": "ce50c261",
   "metadata": {},
   "source": [
    "# Kmeans"
   ]
  },
  {
   "cell_type": "code",
   "execution_count": 144,
   "id": "60a6a2f3",
   "metadata": {},
   "outputs": [
    {
     "name": "stderr",
     "output_type": "stream",
     "text": [
      "C:\\Users\\sushant\\AppData\\Roaming\\Python\\Python38\\site-packages\\sklearn\\cluster\\_kmeans.py:870: FutureWarning: The default value of `n_init` will change from 10 to 'auto' in 1.4. Set the value of `n_init` explicitly to suppress the warning\n",
      "  warnings.warn(\n",
      "C:\\Users\\sushant\\AppData\\Roaming\\Python\\Python38\\site-packages\\sklearn\\cluster\\_kmeans.py:870: FutureWarning: The default value of `n_init` will change from 10 to 'auto' in 1.4. Set the value of `n_init` explicitly to suppress the warning\n",
      "  warnings.warn(\n",
      "C:\\Users\\sushant\\AppData\\Roaming\\Python\\Python38\\site-packages\\sklearn\\cluster\\_kmeans.py:870: FutureWarning: The default value of `n_init` will change from 10 to 'auto' in 1.4. Set the value of `n_init` explicitly to suppress the warning\n",
      "  warnings.warn(\n",
      "C:\\Users\\sushant\\AppData\\Roaming\\Python\\Python38\\site-packages\\sklearn\\cluster\\_kmeans.py:870: FutureWarning: The default value of `n_init` will change from 10 to 'auto' in 1.4. Set the value of `n_init` explicitly to suppress the warning\n",
      "  warnings.warn(\n",
      "C:\\Users\\sushant\\AppData\\Roaming\\Python\\Python38\\site-packages\\sklearn\\cluster\\_kmeans.py:870: FutureWarning: The default value of `n_init` will change from 10 to 'auto' in 1.4. Set the value of `n_init` explicitly to suppress the warning\n",
      "  warnings.warn(\n",
      "C:\\Users\\sushant\\AppData\\Roaming\\Python\\Python38\\site-packages\\sklearn\\cluster\\_kmeans.py:870: FutureWarning: The default value of `n_init` will change from 10 to 'auto' in 1.4. Set the value of `n_init` explicitly to suppress the warning\n",
      "  warnings.warn(\n",
      "C:\\Users\\sushant\\AppData\\Roaming\\Python\\Python38\\site-packages\\sklearn\\cluster\\_kmeans.py:870: FutureWarning: The default value of `n_init` will change from 10 to 'auto' in 1.4. Set the value of `n_init` explicitly to suppress the warning\n",
      "  warnings.warn(\n",
      "C:\\Users\\sushant\\AppData\\Roaming\\Python\\Python38\\site-packages\\sklearn\\cluster\\_kmeans.py:870: FutureWarning: The default value of `n_init` will change from 10 to 'auto' in 1.4. Set the value of `n_init` explicitly to suppress the warning\n",
      "  warnings.warn(\n",
      "C:\\Users\\sushant\\AppData\\Roaming\\Python\\Python38\\site-packages\\sklearn\\cluster\\_kmeans.py:870: FutureWarning: The default value of `n_init` will change from 10 to 'auto' in 1.4. Set the value of `n_init` explicitly to suppress the warning\n",
      "  warnings.warn(\n"
     ]
    },
    {
     "data": {
      "text/plain": [
       "Text(0.5, 1.0, 'Elbow Curve to find optimum K')"
      ]
     },
     "execution_count": 144,
     "metadata": {},
     "output_type": "execute_result"
    },
    {
     "data": {
      "image/png": "[encoded data removed]",
      "text/plain": [
       "<Figure size 1000x500 with 1 Axes>"
      ]
     },
     "metadata": {},
     "output_type": "display_data"
    }
   ],
   "source": [
    "k = list(range(2,11))\n",
    "sum_of_squared_distances = []\n",
    "for i in k:\n",
    "    kmeans = KMeans(n_clusters=i)\n",
    "    kmeans.fit(x_train)\n",
    "    sum_of_squared_distances.append(kmeans.inertia_)\n",
    "\n",
    "plt.figure(figsize=(10, 5))\n",
    "plt.plot(k, sum_of_squared_distances, 'go--')\n",
    "plt.xlabel('Number of Clusters')\n",
    "plt.ylabel('Within Cluster Sum of squares')\n",
    "plt.title('Elbow Curve to find optimum K')"
   ]
  },
  {
   "cell_type": "code",
   "execution_count": 145,
   "id": "cf4b58f7",
   "metadata": {},
   "outputs": [],
   "source": [
    "from sklearn import preprocessing\n",
    "\n",
    "X_train_norm = preprocessing.normalize(x_train)\n",
    "X_test_norm = preprocessing.normalize(x_test)"
   ]
  },
  {
   "cell_type": "code",
   "execution_count": 146,
   "id": "e299d2e0",
   "metadata": {},
   "outputs": [
    {
     "data": {
      "text/html": [
       "<style>#sk-container-id-3 {color: black;background-color: white;}#sk-container-id-3 pre{padding: 0;}#sk-container-id-3 div.sk-toggleable {background-color: white;}#sk-container-id-3 label.sk-toggleable__label {cursor: pointer;display: block;width: 100%;margin-bottom: 0;padding: 0.3em;box-sizing: border-box;text-align: center;}#sk-container-id-3 label.sk-toggleable__label-arrow:before {content: \"▸\";float: left;margin-right: 0.25em;color: #696969;}#sk-container-id-3 label.sk-toggleable__label-arrow:hover:before {color: black;}#sk-container-id-3 div.sk-estimator:hover label.sk-toggleable__label-arrow:before {color: black;}#sk-container-id-3 div.sk-toggleable__content {max-height: 0;max-width: 0;overflow: hidden;text-align: left;background-color: #f0f8ff;}#sk-container-id-3 div.sk-toggleable__content pre {margin: 0.2em;color: black;border-radius: 0.25em;background-color: #f0f8ff;}#sk-container-id-3 input.sk-toggleable__control:checked~div.sk-toggleable__content {max-height: 200px;max-width: 100%;overflow: auto;}#sk-container-id-3 input.sk-toggleable__control:checked~label.sk-toggleable__label-arrow:before {content: \"▾\";}#sk-container-id-3 div.sk-estimator input.sk-toggleable__control:checked~label.sk-toggleable__label {background-color: #d4ebff;}#sk-container-id-3 div.sk-label input.sk-toggleable__control:checked~label.sk-toggleable__label {background-color: #d4ebff;}#sk-container-id-3 input.sk-hidden--visually {border: 0;clip: rect(1px 1px 1px 1px);clip: rect(1px, 1px, 1px, 1px);height: 1px;margin: -1px;overflow: hidden;padding: 0;position: absolute;width: 1px;}#sk-container-id-3 div.sk-estimator {font-family: monospace;background-color: #f0f8ff;border: 1px dotted black;border-radius: 0.25em;box-sizing: border-box;margin-bottom: 0.5em;}#sk-container-id-3 div.sk-estimator:hover {background-color: #d4ebff;}#sk-container-id-3 div.sk-parallel-item::after {content: \"\";width: 100%;border-bottom: 1px solid gray;flex-grow: 1;}#sk-container-id-3 div.sk-label:hover label.sk-toggleable__label {background-color: #d4ebff;}#sk-container-id-3 div.sk-serial::before {content: \"\";position: absolute;border-left: 1px solid gray;box-sizing: border-box;top: 0;bottom: 0;left: 50%;z-index: 0;}#sk-container-id-3 div.sk-serial {display: flex;flex-direction: column;align-items: center;background-color: white;padding-right: 0.2em;padding-left: 0.2em;position: relative;}#sk-container-id-3 div.sk-item {position: relative;z-index: 1;}#sk-container-id-3 div.sk-parallel {display: flex;align-items: stretch;justify-content: center;background-color: white;position: relative;}#sk-container-id-3 div.sk-item::before, #sk-container-id-3 div.sk-parallel-item::before {content: \"\";position: absolute;border-left: 1px solid gray;box-sizing: border-box;top: 0;bottom: 0;left: 50%;z-index: -1;}#sk-container-id-3 div.sk-parallel-item {display: flex;flex-direction: column;z-index: 1;position: relative;background-color: white;}#sk-container-id-3 div.sk-parallel-item:first-child::after {align-self: flex-end;width: 50%;}#sk-container-id-3 div.sk-parallel-item:last-child::after {align-self: flex-start;width: 50%;}#sk-container-id-3 div.sk-parallel-item:only-child::after {width: 0;}#sk-container-id-3 div.sk-dashed-wrapped {border: 1px dashed gray;margin: 0 0.4em 0.5em 0.4em;box-sizing: border-box;padding-bottom: 0.4em;background-color: white;}#sk-container-id-3 div.sk-label label {font-family: monospace;font-weight: bold;display: inline-block;line-height: 1.2em;}#sk-container-id-3 div.sk-label-container {text-align: center;}#sk-container-id-3 div.sk-container {/* jupyter's `normalize.less` sets `[hidden] { display: none; }` but bootstrap.min.css set `[hidden] { display: none !important; }` so we also need the `!important` here to be able to override the default hidden behavior on the sphinx rendered scikit-learn.org. See: https://github.com/scikit-learn/scikit-learn/issues/21755 */display: inline-block !important;position: relative;}#sk-container-id-3 div.sk-text-repr-fallback {display: none;}</style><div id=\"sk-container-id-3\" class=\"sk-top-container\"><div class=\"sk-text-repr-fallback\"><pre>KMeans(n_clusters=3, n_init=10, random_state=0)</pre><b>In a Jupyter environment, please rerun this cell to show the HTML representation or trust the notebook. <br />On GitHub, the HTML representation is unable to render, please try loading this page with nbviewer.org.</b></div><div class=\"sk-container\" hidden><div class=\"sk-item\"><div class=\"sk-estimator sk-toggleable\"><input class=\"sk-toggleable__control sk-hidden--visually\" id=\"sk-estimator-id-3\" type=\"checkbox\" checked><label for=\"sk-estimator-id-3\" class=\"sk-toggleable__label sk-toggleable__label-arrow\">KMeans</label><div class=\"sk-toggleable__content\"><pre>KMeans(n_clusters=3, n_init=10, random_state=0)</pre></div></div></div></div></div>"
      ],
      "text/plain": [
       "KMeans(n_clusters=3, n_init=10, random_state=0)"
      ]
     },
     "execution_count": 146,
     "metadata": {},
     "output_type": "execute_result"
    }
   ],
   "source": [
    "kmeans = KMeans(n_clusters = 3, init = 'k-means++', max_iter = 300, n_init = 10, random_state = 0)\n",
    "kmeans.fit(X_train_norm)"
   ]
  },
  {
   "cell_type": "code",
   "execution_count": 147,
   "id": "a59af919",
   "metadata": {},
   "outputs": [],
   "source": [
    "import pickle\n",
    "with open('model/kmeans_pickle', 'wb') as f:\n",
    "    pickle.dump(kmeans,f)"
   ]
  },
  {
   "cell_type": "code",
   "execution_count": 148,
   "id": "a125ca28",
   "metadata": {},
   "outputs": [
    {
     "data": {
      "text/plain": [
       "array([0, 2, 0, 0, 0, 1, 0, 1, 2, 1, 0, 2, 0, 0, 0, 1, 1, 0, 2, 2, 1, 1,\n",
       "       0, 1, 0, 0, 0, 2, 1, 0, 0, 2, 2, 0, 2, 2, 1, 2, 0, 1, 0, 0, 2, 1,\n",
       "       0, 0, 0, 0, 0, 2, 2, 1, 0, 1, 2, 1, 2, 2, 0, 2, 1, 1, 1, 1, 0, 0,\n",
       "       2, 1, 1, 1, 2, 0, 0, 0, 2, 1, 2, 2, 0, 1, 0, 0, 2, 2, 0, 0, 1, 0,\n",
       "       0, 2, 1, 2, 1, 1, 0, 2, 0, 2, 2, 2, 0, 0, 2, 2, 2, 1, 0, 2, 0, 1,\n",
       "       1, 1, 2, 1, 0, 2, 2, 0, 1, 1, 1, 1, 2, 0, 0, 2, 2, 2, 0, 0, 1, 0,\n",
       "       2, 0, 0, 0, 1, 2, 0, 2, 2, 0, 0, 2, 0, 0, 1, 0, 2, 2, 0, 0, 0, 1,\n",
       "       2, 1, 2, 2, 1, 1, 0, 0, 2, 2, 0, 2, 0, 0, 0, 0, 0, 1, 1, 0, 0, 2,\n",
       "       1, 1, 0, 0, 1, 2, 2, 0, 1, 0, 1, 1, 0, 1, 0, 0, 2, 0, 1, 2, 1, 1,\n",
       "       0, 0, 0, 1, 0, 0, 2, 0, 0, 1, 0, 0, 0, 0, 0, 1, 0, 0, 0, 1, 0, 0,\n",
       "       1, 0, 0, 1, 1, 1, 0, 1, 1, 0, 1, 0, 1, 2, 0, 1])"
      ]
     },
     "execution_count": 148,
     "metadata": {},
     "output_type": "execute_result"
    }
   ],
   "source": [
    "#Calculate which mushrooms fall into which clusters\n",
    "clusters = kmeans.predict(X_test_norm)\n",
    "clusters"
   ]
  },
  {
   "cell_type": "code",
   "execution_count": 149,
   "id": "243036e2",
   "metadata": {},
   "outputs": [
    {
     "name": "stdout",
     "output_type": "stream",
     "text": [
      "The accuracy score achieved using Kmeans is: 0.5435435631989984 %\n"
     ]
    }
   ],
   "source": [
    "from sklearn.metrics import silhouette_score\n",
    "\n",
    "score_kmns = silhouette_score(X_train_norm, kmeans.labels_, metric='euclidean')\n",
    "\n",
    "print(\"The accuracy score achieved using Kmeans is: \"+str(score_kmns)+\" %\")"
   ]
  },
  {
   "cell_type": "code",
   "execution_count": null,
   "id": "b93d8cef",
   "metadata": {
    "scrolled": true
   },
   "outputs": [],
   "source": [
    "\n"
   ]
  },
  {
   "cell_type": "markdown",
   "id": "cfdb1f76",
   "metadata": {},
   "source": [
    "# TESTING CODE"
   ]
  },
  {
   "cell_type": "code",
   "execution_count": 150,
   "id": "5f498005",
   "metadata": {},
   "outputs": [
    {
     "name": "stdout",
     "output_type": "stream",
     "text": [
      "Predicted class: [1]\n"
     ]
    },
    {
     "name": "stderr",
     "output_type": "stream",
     "text": [
      "C:\\Users\\sushant\\AppData\\Roaming\\Python\\Python38\\site-packages\\sklearn\\base.py:439: UserWarning: X does not have valid feature names, but AdaBoostClassifier was fitted with feature names\n",
      "  warnings.warn(\n"
     ]
    }
   ],
   "source": [
    "import pickle\n",
    "import numpy as np\n",
    "\n",
    "# Load the trained model\n",
    "# filename = 'model/trained_model.sav'\n",
    "filename = 'model/AdaBoost_pickle'\n",
    "loaded_model = pickle.load(open(filename, 'rb'))\n",
    "\n",
    "# Define the selected features as an array\n",
    "selected_feats = [\n",
    "    -0.18167326172979, 107.648359232624, 1.82428900056985, 0.367977083159102, 5.22965802841446E-08,\n",
    "    1.23216412228095, 0.148183977361684, 2.93561681223168, 35.8170909090908, 0.012673914122067, -0.000169059802087318,\n",
    "    0.135669869983041\n",
    "]\n",
    "\n",
    "# Convert the selected features to a NumPy array and reshape it\n",
    "X_test = np.array(selected_feats).reshape(1, -1)\n",
    "\n",
    "# Make predictions using the loaded model\n",
    "predictions = loaded_model.predict(X_test)\n",
    "\n",
    "print(\"Predicted class:\", predictions)"
   ]
  },
  {
   "cell_type": "markdown",
   "id": "90e16d43",
   "metadata": {},
   "source": [
    "# CSV_READ_RECORD_TEST_CODE"
   ]
  },
  {
   "cell_type": "code",
   "execution_count": 193,
   "id": "ed7f0bf0",
   "metadata": {},
   "outputs": [],
   "source": [
    "import csv\n",
    "import os"
   ]
  },
  {
   "cell_type": "code",
   "execution_count": 194,
   "id": "2cd11cb7",
   "metadata": {},
   "outputs": [],
   "source": [
    "# Define the input CSV file path\n",
    "input_csv_path = 'Test_data/Record_70.csv'"
   ]
  },
  {
   "cell_type": "code",
   "execution_count": 195,
   "id": "8bd81220",
   "metadata": {},
   "outputs": [
    {
     "data": {
      "text/plain": [
       "'Test_data/Record_70.csv'"
      ]
     },
     "execution_count": 195,
     "metadata": {},
     "output_type": "execute_result"
    }
   ],
   "source": [
    "input_csv_path"
   ]
  },
  {
   "cell_type": "code",
   "execution_count": 196,
   "id": "88530a42",
   "metadata": {},
   "outputs": [],
   "source": [
    "df=pd.read_csv(input_csv_path)"
   ]
  },
  {
   "cell_type": "code",
   "execution_count": 197,
   "id": "a9d15645",
   "metadata": {},
   "outputs": [
    {
     "data": {
      "text/html": [
       "<div>\n",
       "<style scoped>\n",
       "    .dataframe tbody tr th:only-of-type {\n",
       "        vertical-align: middle;\n",
       "    }\n",
       "\n",
       "    .dataframe tbody tr th {\n",
       "        vertical-align: top;\n",
       "    }\n",
       "\n",
       "    .dataframe thead th {\n",
       "        text-align: right;\n",
       "    }\n",
       "</style>\n",
       "<table border=\"1\" class=\"dataframe\">\n",
       "  <thead>\n",
       "    <tr style=\"text-align: right;\">\n",
       "      <th></th>\n",
       "      <th>BVP_mean</th>\n",
       "      <th>BVP_std</th>\n",
       "      <th>EDA_phasic_mean</th>\n",
       "      <th>EDA_phasic_min</th>\n",
       "      <th>EDA_smna_min</th>\n",
       "      <th>EDA_tonic_mean</th>\n",
       "      <th>Resp_mean</th>\n",
       "      <th>Resp_std</th>\n",
       "      <th>TEMP_mean</th>\n",
       "      <th>TEMP_std</th>\n",
       "      <th>TEMP_slope</th>\n",
       "      <th>BVP_peak_freq</th>\n",
       "    </tr>\n",
       "  </thead>\n",
       "  <tbody>\n",
       "    <tr>\n",
       "      <th>0</th>\n",
       "      <td>0.001391</td>\n",
       "      <td>18.068585</td>\n",
       "      <td>0.002865</td>\n",
       "      <td>0.000028</td>\n",
       "      <td>1.209040e-07</td>\n",
       "      <td>-0.683969</td>\n",
       "      <td>0.081493</td>\n",
       "      <td>2.074925</td>\n",
       "      <td>34.128739</td>\n",
       "      <td>0.016825</td>\n",
       "      <td>-0.000289</td>\n",
       "      <td>0.140192</td>\n",
       "    </tr>\n",
       "  </tbody>\n",
       "</table>\n",
       "</div>"
      ],
      "text/plain": [
       "   BVP_mean    BVP_std  EDA_phasic_mean  EDA_phasic_min  EDA_smna_min  \\\n",
       "0  0.001391  18.068585         0.002865        0.000028  1.209040e-07   \n",
       "\n",
       "   EDA_tonic_mean  Resp_mean  Resp_std  TEMP_mean  TEMP_std  TEMP_slope  \\\n",
       "0       -0.683969   0.081493  2.074925  34.128739  0.016825   -0.000289   \n",
       "\n",
       "   BVP_peak_freq  \n",
       "0       0.140192  "
      ]
     },
     "execution_count": 197,
     "metadata": {},
     "output_type": "execute_result"
    }
   ],
   "source": [
    "df"
   ]
  },
  {
   "cell_type": "code",
   "execution_count": 198,
   "id": "f24a932a",
   "metadata": {},
   "outputs": [
    {
     "name": "stdout",
     "output_type": "stream",
     "text": [
      "-------------------------------------------------------------------------------\n",
      "0\n",
      "-------------------------------------------------------------------------------\n",
      "Amused\n",
      "The user is not affected by Amused\n"
     ]
    }
   ],
   "source": [
    "new_list=[]\n",
    "filename='model/AdaBoost_pickle'\n",
    "loaded_model_rf = pickle.load(open(filename, 'rb'))\n",
    "rf1=loaded_model_rf.predict(df)\n",
    "output_model=rf1[0]\n",
    "\n",
    "\n",
    "print(\"-------------------------------------------------------------------------------\")\n",
    "print(output_model)\n",
    "print(\"-------------------------------------------------------------------------------\")\n",
    "\n",
    "if output_model == 0:\n",
    "    print(\"Amused\")\n",
    "    message = \"The user is not affected by Amused\"   \n",
    "    print(message)\n",
    "elif output_model == 1:\n",
    "    print(\"Neutral\")\n",
    "    message = \"The user is not affected by Neutral.\"\n",
    "    print(message)  \n",
    "else:\n",
    "    print(\"Stressed\")\n",
    "    message = \"The user is affected by Stressed.\"\n",
    "    print(message)"
   ]
  },
  {
   "cell_type": "code",
   "execution_count": null,
   "id": "4f474afd",
   "metadata": {},
   "outputs": [],
   "source": []
  },
  {
   "cell_type": "markdown",
   "id": "78be7524",
   "metadata": {},
   "source": [
    "# create grapgh"
   ]
  },
  {
   "cell_type": "code",
   "execution_count": 201,
   "id": "b9dd7eea",
   "metadata": {},
   "outputs": [],
   "source": [
    "import csv\n",
    "import os"
   ]
  },
  {
   "cell_type": "code",
   "execution_count": 202,
   "id": "7ca1c770",
   "metadata": {},
   "outputs": [],
   "source": [
    "# Define the input CSV file path\n",
    "input_csv_path = 'Test_data/Record_70.csv'"
   ]
  },
  {
   "cell_type": "code",
   "execution_count": 203,
   "id": "35c2fbe2",
   "metadata": {},
   "outputs": [],
   "source": [
    "df=pd.read_csv(input_csv_path)"
   ]
  },
  {
   "cell_type": "code",
   "execution_count": 204,
   "id": "141e3d6f",
   "metadata": {},
   "outputs": [
    {
     "data": {
      "text/html": [
       "<div>\n",
       "<style scoped>\n",
       "    .dataframe tbody tr th:only-of-type {\n",
       "        vertical-align: middle;\n",
       "    }\n",
       "\n",
       "    .dataframe tbody tr th {\n",
       "        vertical-align: top;\n",
       "    }\n",
       "\n",
       "    .dataframe thead th {\n",
       "        text-align: right;\n",
       "    }\n",
       "</style>\n",
       "<table border=\"1\" class=\"dataframe\">\n",
       "  <thead>\n",
       "    <tr style=\"text-align: right;\">\n",
       "      <th></th>\n",
       "      <th>BVP_mean</th>\n",
       "      <th>BVP_std</th>\n",
       "      <th>EDA_phasic_mean</th>\n",
       "      <th>EDA_phasic_min</th>\n",
       "      <th>EDA_smna_min</th>\n",
       "      <th>EDA_tonic_mean</th>\n",
       "      <th>Resp_mean</th>\n",
       "      <th>Resp_std</th>\n",
       "      <th>TEMP_mean</th>\n",
       "      <th>TEMP_std</th>\n",
       "      <th>TEMP_slope</th>\n",
       "      <th>BVP_peak_freq</th>\n",
       "    </tr>\n",
       "  </thead>\n",
       "  <tbody>\n",
       "    <tr>\n",
       "      <th>0</th>\n",
       "      <td>0.001391</td>\n",
       "      <td>18.068585</td>\n",
       "      <td>0.002865</td>\n",
       "      <td>0.000028</td>\n",
       "      <td>1.209040e-07</td>\n",
       "      <td>-0.683969</td>\n",
       "      <td>0.081493</td>\n",
       "      <td>2.074925</td>\n",
       "      <td>34.128739</td>\n",
       "      <td>0.016825</td>\n",
       "      <td>-0.000289</td>\n",
       "      <td>0.140192</td>\n",
       "    </tr>\n",
       "  </tbody>\n",
       "</table>\n",
       "</div>"
      ],
      "text/plain": [
       "   BVP_mean    BVP_std  EDA_phasic_mean  EDA_phasic_min  EDA_smna_min  \\\n",
       "0  0.001391  18.068585         0.002865        0.000028  1.209040e-07   \n",
       "\n",
       "   EDA_tonic_mean  Resp_mean  Resp_std  TEMP_mean  TEMP_std  TEMP_slope  \\\n",
       "0       -0.683969   0.081493  2.074925  34.128739  0.016825   -0.000289   \n",
       "\n",
       "   BVP_peak_freq  \n",
       "0       0.140192  "
      ]
     },
     "execution_count": 204,
     "metadata": {},
     "output_type": "execute_result"
    }
   ],
   "source": [
    "df"
   ]
  },
  {
   "cell_type": "code",
   "execution_count": 205,
   "id": "11f6293c",
   "metadata": {
    "scrolled": true
   },
   "outputs": [
    {
     "data": {
      "image/png": "[encoded data removed]",
      "text/plain": [
       "<Figure size 1000x600 with 1 Axes>"
      ]
     },
     "metadata": {},
     "output_type": "display_data"
    }
   ],
   "source": [
    "import pandas as pd\n",
    "import matplotlib.pyplot as plt\n",
    "\n",
    "# Assuming df is your DataFrame with the specified columns\n",
    "# For example:\n",
    "# df = pd.DataFrame({'BVP_mean': [0.001391], 'BVP_std': [18.068585], 'EDA_phasic_mean': [0.002865], ...})\n",
    "\n",
    "# Plotting a bar plot for each column\n",
    "plt.figure(figsize=(10, 6))\n",
    "df.plot(kind='bar', ax=plt.gca())\n",
    "plt.xlabel('Features')\n",
    "plt.ylabel('Values')\n",
    "plt.title('Values in DataFrame')\n",
    "plt.xticks(rotation=45)\n",
    "plt.tight_layout()\n",
    "plt.show()\n"
   ]
  },
  {
   "cell_type": "code",
   "execution_count": 210,
   "id": "bc1fc12b",
   "metadata": {},
   "outputs": [
    {
     "data": {
      "application/vnd.plotly.v1+json": {
       "config": {
        "plotlyServerURL": "https://plot.ly"
       },
       "data": [
        {
         "mode": "lines+markers",
         "name": "BVP_mean",
         "type": "scatter",
         "x": [
          0
         ],
         "y": [
          0.001391
         ]
        },
        {
         "mode": "lines+markers",
         "name": "BVP_std",
         "type": "scatter",
         "x": [
          0
         ],
         "y": [
          18.068585
         ]
        },
        {
         "mode": "lines+markers",
         "name": "EDA_phasic_mean",
         "type": "scatter",
         "x": [
          0
         ],
         "y": [
          0.002865
         ]
        },
        {
         "mode": "lines+markers",
         "name": "EDA_phasic_min",
         "type": "scatter",
         "x": [
          0
         ],
         "y": [
          2.8e-05
         ]
        },
        {
         "mode": "lines+markers",
         "name": "EDA_smna_min",
         "type": "scatter",
         "x": [
          0
         ],
         "y": [
          1.20904e-07
         ]
        },
        {
         "mode": "lines+markers",
         "name": "EDA_tonic_mean",
         "type": "scatter",
         "x": [
          0
         ],
         "y": [
          -0.683969
         ]
        },
        {
         "mode": "lines+markers",
         "name": "Resp_mean",
         "type": "scatter",
         "x": [
          0
         ],
         "y": [
          0.081493
         ]
        },
        {
         "mode": "lines+markers",
         "name": "Resp_std",
         "type": "scatter",
         "x": [
          0
         ],
         "y": [
          2.074925
         ]
        },
        {
         "mode": "lines+markers",
         "name": "TEMP_mean",
         "type": "scatter",
         "x": [
          0
         ],
         "y": [
          34.128739
         ]
        },
        {
         "mode": "lines+markers",
         "name": "TEMP_std",
         "type": "scatter",
         "x": [
          0
         ],
         "y": [
          0.016825
         ]
        },
        {
         "mode": "lines+markers",
         "name": "TEMP_slope",
         "type": "scatter",
         "x": [
          0
         ],
         "y": [
          -0.000289
         ]
        },
        {
         "mode": "lines+markers",
         "name": "BVP_peak_freq",
         "type": "scatter",
         "x": [
          0
         ],
         "y": [
          0.140192
         ]
        }
       ],
       "layout": {
        "template": {
         "data": {
          "bar": [
           {
            "error_x": {
             "color": "#2a3f5f"
            },
            "error_y": {
             "color": "#2a3f5f"
            },
            "marker": {
             "line": {
              "color": "#E5ECF6",
              "width": 0.5
             },
             "pattern": {
              "fillmode": "overlay",
              "size": 10,
              "solidity": 0.2
             }
            },
            "type": "bar"
           }
          ],
          "barpolar": [
           {
            "marker": {
             "line": {
              "color": "#E5ECF6",
              "width": 0.5
             },
             "pattern": {
              "fillmode": "overlay",
              "size": 10,
              "solidity": 0.2
             }
            },
            "type": "barpolar"
           }
          ],
          "carpet": [
           {
            "aaxis": {
             "endlinecolor": "#2a3f5f",
             "gridcolor": "white",
             "linecolor": "white",
             "minorgridcolor": "white",
             "startlinecolor": "#2a3f5f"
            },
            "baxis": {
             "endlinecolor": "#2a3f5f",
             "gridcolor": "white",
             "linecolor": "white",
             "minorgridcolor": "white",
             "startlinecolor": "#2a3f5f"
            },
            "type": "carpet"
           }
          ],
          "choropleth": [
           {
            "colorbar": {
             "outlinewidth": 0,
             "ticks": ""
            },
            "type": "choropleth"
           }
          ],
          "contour": [
           {
            "colorbar": {
             "outlinewidth": 0,
             "ticks": ""
            },
            "colorscale": [
             [
              0,
              "#0d0887"
             ],
             [
              0.1111111111111111,
              "#46039f"
             ],
             [
              0.2222222222222222,
              "#7201a8"
             ],
             [
              0.3333333333333333,
              "#9c179e"
             ],
             [
              0.4444444444444444,
              "#bd3786"
             ],
             [
              0.5555555555555556,
              "#d8576b"
             ],
             [
              0.6666666666666666,
              "#ed7953"
             ],
             [
              0.7777777777777778,
              "#fb9f3a"
             ],
             [
              0.8888888888888888,
              "#fdca26"
             ],
             [
              1,
              "#f0f921"
             ]
            ],
            "type": "contour"
           }
          ],
          "contourcarpet": [
           {
            "colorbar": {
             "outlinewidth": 0,
             "ticks": ""
            },
            "type": "contourcarpet"
           }
          ],
          "heatmap": [
           {
            "colorbar": {
             "outlinewidth": 0,
             "ticks": ""
            },
            "colorscale": [
             [
              0,
              "#0d0887"
             ],
             [
              0.1111111111111111,
              "#46039f"
             ],
             [
              0.2222222222222222,
              "#7201a8"
             ],
             [
              0.3333333333333333,
              "#9c179e"
             ],
             [
              0.4444444444444444,
              "#bd3786"
             ],
             [
              0.5555555555555556,
              "#d8576b"
             ],
             [
              0.6666666666666666,
              "#ed7953"
             ],
             [
              0.7777777777777778,
              "#fb9f3a"
             ],
             [
              0.8888888888888888,
              "#fdca26"
             ],
             [
              1,
              "#f0f921"
             ]
            ],
            "type": "heatmap"
           }
          ],
          "heatmapgl": [
           {
            "colorbar": {
             "outlinewidth": 0,
             "ticks": ""
            },
            "colorscale": [
             [
              0,
              "#0d0887"
             ],
             [
              0.1111111111111111,
              "#46039f"
             ],
             [
              0.2222222222222222,
              "#7201a8"
             ],
             [
              0.3333333333333333,
              "#9c179e"
             ],
             [
              0.4444444444444444,
              "#bd3786"
             ],
             [
              0.5555555555555556,
              "#d8576b"
             ],
             [
              0.6666666666666666,
              "#ed7953"
             ],
             [
              0.7777777777777778,
              "#fb9f3a"
             ],
             [
              0.8888888888888888,
              "#fdca26"
             ],
             [
              1,
              "#f0f921"
             ]
            ],
            "type": "heatmapgl"
           }
          ],
          "histogram": [
           {
            "marker": {
             "pattern": {
              "fillmode": "overlay",
              "size": 10,
              "solidity": 0.2
             }
            },
            "type": "histogram"
           }
          ],
          "histogram2d": [
           {
            "colorbar": {
             "outlinewidth": 0,
             "ticks": ""
            },
            "colorscale": [
             [
              0,
              "#0d0887"
             ],
             [
              0.1111111111111111,
              "#46039f"
             ],
             [
              0.2222222222222222,
              "#7201a8"
             ],
             [
              0.3333333333333333,
              "#9c179e"
             ],
             [
              0.4444444444444444,
              "#bd3786"
             ],
             [
              0.5555555555555556,
              "#d8576b"
             ],
             [
              0.6666666666666666,
              "#ed7953"
             ],
             [
              0.7777777777777778,
              "#fb9f3a"
             ],
             [
              0.8888888888888888,
              "#fdca26"
             ],
             [
              1,
              "#f0f921"
             ]
            ],
            "type": "histogram2d"
           }
          ],
          "histogram2dcontour": [
           {
            "colorbar": {
             "outlinewidth": 0,
             "ticks": ""
            },
            "colorscale": [
             [
              0,
              "#0d0887"
             ],
             [
              0.1111111111111111,
              "#46039f"
             ],
             [
              0.2222222222222222,
              "#7201a8"
             ],
             [
              0.3333333333333333,
              "#9c179e"
             ],
             [
              0.4444444444444444,
              "#bd3786"
             ],
             [
              0.5555555555555556,
              "#d8576b"
             ],
             [
              0.6666666666666666,
              "#ed7953"
             ],
             [
              0.7777777777777778,
              "#fb9f3a"
             ],
             [
              0.8888888888888888,
              "#fdca26"
             ],
             [
              1,
              "#f0f921"
             ]
            ],
            "type": "histogram2dcontour"
           }
          ],
          "mesh3d": [
           {
            "colorbar": {
             "outlinewidth": 0,
             "ticks": ""
            },
            "type": "mesh3d"
           }
          ],
          "parcoords": [
           {
            "line": {
             "colorbar": {
              "outlinewidth": 0,
              "ticks": ""
             }
            },
            "type": "parcoords"
           }
          ],
          "pie": [
           {
            "automargin": true,
            "type": "pie"
           }
          ],
          "scatter": [
           {
            "fillpattern": {
             "fillmode": "overlay",
             "size": 10,
             "solidity": 0.2
            },
            "type": "scatter"
           }
          ],
          "scatter3d": [
           {
            "line": {
             "colorbar": {
              "outlinewidth": 0,
              "ticks": ""
             }
            },
            "marker": {
             "colorbar": {
              "outlinewidth": 0,
              "ticks": ""
             }
            },
            "type": "scatter3d"
           }
          ],
          "scattercarpet": [
           {
            "marker": {
             "colorbar": {
              "outlinewidth": 0,
              "ticks": ""
             }
            },
            "type": "scattercarpet"
           }
          ],
          "scattergeo": [
           {
            "marker": {
             "colorbar": {
              "outlinewidth": 0,
              "ticks": ""
             }
            },
            "type": "scattergeo"
           }
          ],
          "scattergl": [
           {
            "marker": {
             "colorbar": {
              "outlinewidth": 0,
              "ticks": ""
             }
            },
            "type": "scattergl"
           }
          ],
          "scattermapbox": [
           {
            "marker": {
             "colorbar": {
              "outlinewidth": 0,
              "ticks": ""
             }
            },
            "type": "scattermapbox"
           }
          ],
          "scatterpolar": [
           {
            "marker": {
             "colorbar": {
              "outlinewidth": 0,
              "ticks": ""
             }
            },
            "type": "scatterpolar"
           }
          ],
          "scatterpolargl": [
           {
            "marker": {
             "colorbar": {
              "outlinewidth": 0,
              "ticks": ""
             }
            },
            "type": "scatterpolargl"
           }
          ],
          "scatterternary": [
           {
            "marker": {
             "colorbar": {
              "outlinewidth": 0,
              "ticks": ""
             }
            },
            "type": "scatterternary"
           }
          ],
          "surface": [
           {
            "colorbar": {
             "outlinewidth": 0,
             "ticks": ""
            },
            "colorscale": [
             [
              0,
              "#0d0887"
             ],
             [
              0.1111111111111111,
              "#46039f"
             ],
             [
              0.2222222222222222,
              "#7201a8"
             ],
             [
              0.3333333333333333,
              "#9c179e"
             ],
             [
              0.4444444444444444,
              "#bd3786"
             ],
             [
              0.5555555555555556,
              "#d8576b"
             ],
             [
              0.6666666666666666,
              "#ed7953"
             ],
             [
              0.7777777777777778,
              "#fb9f3a"
             ],
             [
              0.8888888888888888,
              "#fdca26"
             ],
             [
              1,
              "#f0f921"
             ]
            ],
            "type": "surface"
           }
          ],
          "table": [
           {
            "cells": {
             "fill": {
              "color": "#EBF0F8"
             },
             "line": {
              "color": "white"
             }
            },
            "header": {
             "fill": {
              "color": "#C8D4E3"
             },
             "line": {
              "color": "white"
             }
            },
            "type": "table"
           }
          ]
         },
         "layout": {
          "annotationdefaults": {
           "arrowcolor": "#2a3f5f",
           "arrowhead": 0,
           "arrowwidth": 1
          },
          "autotypenumbers": "strict",
          "coloraxis": {
           "colorbar": {
            "outlinewidth": 0,
            "ticks": ""
           }
          },
          "colorscale": {
           "diverging": [
            [
             0,
             "#8e0152"
            ],
            [
             0.1,
             "#c51b7d"
            ],
            [
             0.2,
             "#de77ae"
            ],
            [
             0.3,
             "#f1b6da"
            ],
            [
             0.4,
             "#fde0ef"
            ],
            [
             0.5,
             "#f7f7f7"
            ],
            [
             0.6,
             "#e6f5d0"
            ],
            [
             0.7,
             "#b8e186"
            ],
            [
             0.8,
             "#7fbc41"
            ],
            [
             0.9,
             "#4d9221"
            ],
            [
             1,
             "#276419"
            ]
           ],
           "sequential": [
            [
             0,
             "#0d0887"
            ],
            [
             0.1111111111111111,
             "#46039f"
            ],
            [
             0.2222222222222222,
             "#7201a8"
            ],
            [
             0.3333333333333333,
             "#9c179e"
            ],
            [
             0.4444444444444444,
             "#bd3786"
            ],
            [
             0.5555555555555556,
             "#d8576b"
            ],
            [
             0.6666666666666666,
             "#ed7953"
            ],
            [
             0.7777777777777778,
             "#fb9f3a"
            ],
            [
             0.8888888888888888,
             "#fdca26"
            ],
            [
             1,
             "#f0f921"
            ]
           ],
           "sequentialminus": [
            [
             0,
             "#0d0887"
            ],
            [
             0.1111111111111111,
             "#46039f"
            ],
            [
             0.2222222222222222,
             "#7201a8"
            ],
            [
             0.3333333333333333,
             "#9c179e"
            ],
            [
             0.4444444444444444,
             "#bd3786"
            ],
            [
             0.5555555555555556,
             "#d8576b"
            ],
            [
             0.6666666666666666,
             "#ed7953"
            ],
            [
             0.7777777777777778,
             "#fb9f3a"
            ],
            [
             0.8888888888888888,
             "#fdca26"
            ],
            [
             1,
             "#f0f921"
            ]
           ]
          },
          "colorway": [
           "#636efa",
           "#EF553B",
           "#00cc96",
           "#ab63fa",
           "#FFA15A",
           "#19d3f3",
           "#FF6692",
           "#B6E880",
           "#FF97FF",
           "#FECB52"
          ],
          "font": {
           "color": "#2a3f5f"
          },
          "geo": {
           "bgcolor": "white",
           "lakecolor": "white",
           "landcolor": "#E5ECF6",
           "showlakes": true,
           "showland": true,
           "subunitcolor": "white"
          },
          "hoverlabel": {
           "align": "left"
          },
          "hovermode": "closest",
          "mapbox": {
           "style": "light"
          },
          "paper_bgcolor": "white",
          "plot_bgcolor": "#E5ECF6",
          "polar": {
           "angularaxis": {
            "gridcolor": "white",
            "linecolor": "white",
            "ticks": ""
           },
           "bgcolor": "#E5ECF6",
           "radialaxis": {
            "gridcolor": "white",
            "linecolor": "white",
            "ticks": ""
           }
          },
          "scene": {
           "xaxis": {
            "backgroundcolor": "#E5ECF6",
            "gridcolor": "white",
            "gridwidth": 2,
            "linecolor": "white",
            "showbackground": true,
            "ticks": "",
            "zerolinecolor": "white"
           },
           "yaxis": {
            "backgroundcolor": "#E5ECF6",
            "gridcolor": "white",
            "gridwidth": 2,
            "linecolor": "white",
            "showbackground": true,
            "ticks": "",
            "zerolinecolor": "white"
           },
           "zaxis": {
            "backgroundcolor": "#E5ECF6",
            "gridcolor": "white",
            "gridwidth": 2,
            "linecolor": "white",
            "showbackground": true,
            "ticks": "",
            "zerolinecolor": "white"
           }
          },
          "shapedefaults": {
           "line": {
            "color": "#2a3f5f"
           }
          },
          "ternary": {
           "aaxis": {
            "gridcolor": "white",
            "linecolor": "white",
            "ticks": ""
           },
           "baxis": {
            "gridcolor": "white",
            "linecolor": "white",
            "ticks": ""
           },
           "bgcolor": "#E5ECF6",
           "caxis": {
            "gridcolor": "white",
            "linecolor": "white",
            "ticks": ""
           }
          },
          "title": {
           "x": 0.05
          },
          "xaxis": {
           "automargin": true,
           "gridcolor": "white",
           "linecolor": "white",
           "ticks": "",
           "title": {
            "standoff": 15
           },
           "zerolinecolor": "white",
           "zerolinewidth": 2
          },
          "yaxis": {
           "automargin": true,
           "gridcolor": "white",
           "linecolor": "white",
           "ticks": "",
           "title": {
            "standoff": 15
           },
           "zerolinecolor": "white",
           "zerolinewidth": 2
          }
         }
        },
        "title": {
         "text": "Real-time Graph"
        },
        "xaxis": {
         "anchor": "y",
         "domain": [
          0,
          1
         ],
         "title": {
          "text": "Index"
         }
        },
        "yaxis": {
         "anchor": "x",
         "domain": [
          0,
          1
         ],
         "title": {
          "text": "Values"
         }
        }
       }
      },
      "text/html": [
       "<div>                            <div id=\"55cc26ed-92d9-4d0f-9c51-e64c01d35f13\" class=\"plotly-graph-div\" style=\"height:525px; width:100%;\"></div>            <script type=\"text/javascript\">                require([\"plotly\"], function(Plotly) {                    window.PLOTLYENV=window.PLOTLYENV || {};                                    if (document.getElementById(\"55cc26ed-92d9-4d0f-9c51-e64c01d35f13\")) {                    Plotly.newPlot(                        \"55cc26ed-92d9-4d0f-9c51-e64c01d35f13\",                        [{\"mode\":\"lines+markers\",\"name\":\"BVP_mean\",\"x\":[0],\"y\":[0.001391],\"type\":\"scatter\"},{\"mode\":\"lines+markers\",\"name\":\"BVP_std\",\"x\":[0],\"y\":[18.068585],\"type\":\"scatter\"},{\"mode\":\"lines+markers\",\"name\":\"EDA_phasic_mean\",\"x\":[0],\"y\":[0.002865],\"type\":\"scatter\"},{\"mode\":\"lines+markers\",\"name\":\"EDA_phasic_min\",\"x\":[0],\"y\":[2.8e-05],\"type\":\"scatter\"},{\"mode\":\"lines+markers\",\"name\":\"EDA_smna_min\",\"x\":[0],\"y\":[1.20904e-07],\"type\":\"scatter\"},{\"mode\":\"lines+markers\",\"name\":\"EDA_tonic_mean\",\"x\":[0],\"y\":[-0.683969],\"type\":\"scatter\"},{\"mode\":\"lines+markers\",\"name\":\"Resp_mean\",\"x\":[0],\"y\":[0.081493],\"type\":\"scatter\"},{\"mode\":\"lines+markers\",\"name\":\"Resp_std\",\"x\":[0],\"y\":[2.074925],\"type\":\"scatter\"},{\"mode\":\"lines+markers\",\"name\":\"TEMP_mean\",\"x\":[0],\"y\":[34.128739],\"type\":\"scatter\"},{\"mode\":\"lines+markers\",\"name\":\"TEMP_std\",\"x\":[0],\"y\":[0.016825],\"type\":\"scatter\"},{\"mode\":\"lines+markers\",\"name\":\"TEMP_slope\",\"x\":[0],\"y\":[-0.000289],\"type\":\"scatter\"},{\"mode\":\"lines+markers\",\"name\":\"BVP_peak_freq\",\"x\":[0],\"y\":[0.140192],\"type\":\"scatter\"}],                        {\"template\":{\"data\":{\"histogram2dcontour\":[{\"type\":\"histogram2dcontour\",\"colorbar\":{\"outlinewidth\":0,\"ticks\":\"\"},\"colorscale\":[[0.0,\"#0d0887\"],[0.1111111111111111,\"#46039f\"],[0.2222222222222222,\"#7201a8\"],[0.3333333333333333,\"#9c179e\"],[0.4444444444444444,\"#bd3786\"],[0.5555555555555556,\"#d8576b\"],[0.6666666666666666,\"#ed7953\"],[0.7777777777777778,\"#fb9f3a\"],[0.8888888888888888,\"#fdca26\"],[1.0,\"#f0f921\"]]}],\"choropleth\":[{\"type\":\"choropleth\",\"colorbar\":{\"outlinewidth\":0,\"ticks\":\"\"}}],\"histogram2d\":[{\"type\":\"histogram2d\",\"colorbar\":{\"outlinewidth\":0,\"ticks\":\"\"},\"colorscale\":[[0.0,\"#0d0887\"],[0.1111111111111111,\"#46039f\"],[0.2222222222222222,\"#7201a8\"],[0.3333333333333333,\"#9c179e\"],[0.4444444444444444,\"#bd3786\"],[0.5555555555555556,\"#d8576b\"],[0.6666666666666666,\"#ed7953\"],[0.7777777777777778,\"#fb9f3a\"],[0.8888888888888888,\"#fdca26\"],[1.0,\"#f0f921\"]]}],\"heatmap\":[{\"type\":\"heatmap\",\"colorbar\":{\"outlinewidth\":0,\"ticks\":\"\"},\"colorscale\":[[0.0,\"#0d0887\"],[0.1111111111111111,\"#46039f\"],[0.2222222222222222,\"#7201a8\"],[0.3333333333333333,\"#9c179e\"],[0.4444444444444444,\"#bd3786\"],[0.5555555555555556,\"#d8576b\"],[0.6666666666666666,\"#ed7953\"],[0.7777777777777778,\"#fb9f3a\"],[0.8888888888888888,\"#fdca26\"],[1.0,\"#f0f921\"]]}],\"heatmapgl\":[{\"type\":\"heatmapgl\",\"colorbar\":{\"outlinewidth\":0,\"ticks\":\"\"},\"colorscale\":[[0.0,\"#0d0887\"],[0.1111111111111111,\"#46039f\"],[0.2222222222222222,\"#7201a8\"],[0.3333333333333333,\"#9c179e\"],[0.4444444444444444,\"#bd3786\"],[0.5555555555555556,\"#d8576b\"],[0.6666666666666666,\"#ed7953\"],[0.7777777777777778,\"#fb9f3a\"],[0.8888888888888888,\"#fdca26\"],[1.0,\"#f0f921\"]]}],\"contourcarpet\":[{\"type\":\"contourcarpet\",\"colorbar\":{\"outlinewidth\":0,\"ticks\":\"\"}}],\"contour\":[{\"type\":\"contour\",\"colorbar\":{\"outlinewidth\":0,\"ticks\":\"\"},\"colorscale\":[[0.0,\"#0d0887\"],[0.1111111111111111,\"#46039f\"],[0.2222222222222222,\"#7201a8\"],[0.3333333333333333,\"#9c179e\"],[0.4444444444444444,\"#bd3786\"],[0.5555555555555556,\"#d8576b\"],[0.6666666666666666,\"#ed7953\"],[0.7777777777777778,\"#fb9f3a\"],[0.8888888888888888,\"#fdca26\"],[1.0,\"#f0f921\"]]}],\"surface\":[{\"type\":\"surface\",\"colorbar\":{\"outlinewidth\":0,\"ticks\":\"\"},\"colorscale\":[[0.0,\"#0d0887\"],[0.1111111111111111,\"#46039f\"],[0.2222222222222222,\"#7201a8\"],[0.3333333333333333,\"#9c179e\"],[0.4444444444444444,\"#bd3786\"],[0.5555555555555556,\"#d8576b\"],[0.6666666666666666,\"#ed7953\"],[0.7777777777777778,\"#fb9f3a\"],[0.8888888888888888,\"#fdca26\"],[1.0,\"#f0f921\"]]}],\"mesh3d\":[{\"type\":\"mesh3d\",\"colorbar\":{\"outlinewidth\":0,\"ticks\":\"\"}}],\"scatter\":[{\"fillpattern\":{\"fillmode\":\"overlay\",\"size\":10,\"solidity\":0.2},\"type\":\"scatter\"}],\"parcoords\":[{\"type\":\"parcoords\",\"line\":{\"colorbar\":{\"outlinewidth\":0,\"ticks\":\"\"}}}],\"scatterpolargl\":[{\"type\":\"scatterpolargl\",\"marker\":{\"colorbar\":{\"outlinewidth\":0,\"ticks\":\"\"}}}],\"bar\":[{\"error_x\":{\"color\":\"#2a3f5f\"},\"error_y\":{\"color\":\"#2a3f5f\"},\"marker\":{\"line\":{\"color\":\"#E5ECF6\",\"width\":0.5},\"pattern\":{\"fillmode\":\"overlay\",\"size\":10,\"solidity\":0.2}},\"type\":\"bar\"}],\"scattergeo\":[{\"type\":\"scattergeo\",\"marker\":{\"colorbar\":{\"outlinewidth\":0,\"ticks\":\"\"}}}],\"scatterpolar\":[{\"type\":\"scatterpolar\",\"marker\":{\"colorbar\":{\"outlinewidth\":0,\"ticks\":\"\"}}}],\"histogram\":[{\"marker\":{\"pattern\":{\"fillmode\":\"overlay\",\"size\":10,\"solidity\":0.2}},\"type\":\"histogram\"}],\"scattergl\":[{\"type\":\"scattergl\",\"marker\":{\"colorbar\":{\"outlinewidth\":0,\"ticks\":\"\"}}}],\"scatter3d\":[{\"type\":\"scatter3d\",\"line\":{\"colorbar\":{\"outlinewidth\":0,\"ticks\":\"\"}},\"marker\":{\"colorbar\":{\"outlinewidth\":0,\"ticks\":\"\"}}}],\"scattermapbox\":[{\"type\":\"scattermapbox\",\"marker\":{\"colorbar\":{\"outlinewidth\":0,\"ticks\":\"\"}}}],\"scatterternary\":[{\"type\":\"scatterternary\",\"marker\":{\"colorbar\":{\"outlinewidth\":0,\"ticks\":\"\"}}}],\"scattercarpet\":[{\"type\":\"scattercarpet\",\"marker\":{\"colorbar\":{\"outlinewidth\":0,\"ticks\":\"\"}}}],\"carpet\":[{\"aaxis\":{\"endlinecolor\":\"#2a3f5f\",\"gridcolor\":\"white\",\"linecolor\":\"white\",\"minorgridcolor\":\"white\",\"startlinecolor\":\"#2a3f5f\"},\"baxis\":{\"endlinecolor\":\"#2a3f5f\",\"gridcolor\":\"white\",\"linecolor\":\"white\",\"minorgridcolor\":\"white\",\"startlinecolor\":\"#2a3f5f\"},\"type\":\"carpet\"}],\"table\":[{\"cells\":{\"fill\":{\"color\":\"#EBF0F8\"},\"line\":{\"color\":\"white\"}},\"header\":{\"fill\":{\"color\":\"#C8D4E3\"},\"line\":{\"color\":\"white\"}},\"type\":\"table\"}],\"barpolar\":[{\"marker\":{\"line\":{\"color\":\"#E5ECF6\",\"width\":0.5},\"pattern\":{\"fillmode\":\"overlay\",\"size\":10,\"solidity\":0.2}},\"type\":\"barpolar\"}],\"pie\":[{\"automargin\":true,\"type\":\"pie\"}]},\"layout\":{\"autotypenumbers\":\"strict\",\"colorway\":[\"#636efa\",\"#EF553B\",\"#00cc96\",\"#ab63fa\",\"#FFA15A\",\"#19d3f3\",\"#FF6692\",\"#B6E880\",\"#FF97FF\",\"#FECB52\"],\"font\":{\"color\":\"#2a3f5f\"},\"hovermode\":\"closest\",\"hoverlabel\":{\"align\":\"left\"},\"paper_bgcolor\":\"white\",\"plot_bgcolor\":\"#E5ECF6\",\"polar\":{\"bgcolor\":\"#E5ECF6\",\"angularaxis\":{\"gridcolor\":\"white\",\"linecolor\":\"white\",\"ticks\":\"\"},\"radialaxis\":{\"gridcolor\":\"white\",\"linecolor\":\"white\",\"ticks\":\"\"}},\"ternary\":{\"bgcolor\":\"#E5ECF6\",\"aaxis\":{\"gridcolor\":\"white\",\"linecolor\":\"white\",\"ticks\":\"\"},\"baxis\":{\"gridcolor\":\"white\",\"linecolor\":\"white\",\"ticks\":\"\"},\"caxis\":{\"gridcolor\":\"white\",\"linecolor\":\"white\",\"ticks\":\"\"}},\"coloraxis\":{\"colorbar\":{\"outlinewidth\":0,\"ticks\":\"\"}},\"colorscale\":{\"sequential\":[[0.0,\"#0d0887\"],[0.1111111111111111,\"#46039f\"],[0.2222222222222222,\"#7201a8\"],[0.3333333333333333,\"#9c179e\"],[0.4444444444444444,\"#bd3786\"],[0.5555555555555556,\"#d8576b\"],[0.6666666666666666,\"#ed7953\"],[0.7777777777777778,\"#fb9f3a\"],[0.8888888888888888,\"#fdca26\"],[1.0,\"#f0f921\"]],\"sequentialminus\":[[0.0,\"#0d0887\"],[0.1111111111111111,\"#46039f\"],[0.2222222222222222,\"#7201a8\"],[0.3333333333333333,\"#9c179e\"],[0.4444444444444444,\"#bd3786\"],[0.5555555555555556,\"#d8576b\"],[0.6666666666666666,\"#ed7953\"],[0.7777777777777778,\"#fb9f3a\"],[0.8888888888888888,\"#fdca26\"],[1.0,\"#f0f921\"]],\"diverging\":[[0,\"#8e0152\"],[0.1,\"#c51b7d\"],[0.2,\"#de77ae\"],[0.3,\"#f1b6da\"],[0.4,\"#fde0ef\"],[0.5,\"#f7f7f7\"],[0.6,\"#e6f5d0\"],[0.7,\"#b8e186\"],[0.8,\"#7fbc41\"],[0.9,\"#4d9221\"],[1,\"#276419\"]]},\"xaxis\":{\"gridcolor\":\"white\",\"linecolor\":\"white\",\"ticks\":\"\",\"title\":{\"standoff\":15},\"zerolinecolor\":\"white\",\"automargin\":true,\"zerolinewidth\":2},\"yaxis\":{\"gridcolor\":\"white\",\"linecolor\":\"white\",\"ticks\":\"\",\"title\":{\"standoff\":15},\"zerolinecolor\":\"white\",\"automargin\":true,\"zerolinewidth\":2},\"scene\":{\"xaxis\":{\"backgroundcolor\":\"#E5ECF6\",\"gridcolor\":\"white\",\"linecolor\":\"white\",\"showbackground\":true,\"ticks\":\"\",\"zerolinecolor\":\"white\",\"gridwidth\":2},\"yaxis\":{\"backgroundcolor\":\"#E5ECF6\",\"gridcolor\":\"white\",\"linecolor\":\"white\",\"showbackground\":true,\"ticks\":\"\",\"zerolinecolor\":\"white\",\"gridwidth\":2},\"zaxis\":{\"backgroundcolor\":\"#E5ECF6\",\"gridcolor\":\"white\",\"linecolor\":\"white\",\"showbackground\":true,\"ticks\":\"\",\"zerolinecolor\":\"white\",\"gridwidth\":2}},\"shapedefaults\":{\"line\":{\"color\":\"#2a3f5f\"}},\"annotationdefaults\":{\"arrowcolor\":\"#2a3f5f\",\"arrowhead\":0,\"arrowwidth\":1},\"geo\":{\"bgcolor\":\"white\",\"landcolor\":\"#E5ECF6\",\"subunitcolor\":\"white\",\"showland\":true,\"showlakes\":true,\"lakecolor\":\"white\"},\"title\":{\"x\":0.05},\"mapbox\":{\"style\":\"light\"}}},\"xaxis\":{\"anchor\":\"y\",\"domain\":[0.0,1.0],\"title\":{\"text\":\"Index\"}},\"yaxis\":{\"anchor\":\"x\",\"domain\":[0.0,1.0],\"title\":{\"text\":\"Values\"}},\"title\":{\"text\":\"Real-time Graph\"}},                        {\"responsive\": true}                    ).then(function(){\n",
       "                            \n",
       "var gd = document.getElementById('55cc26ed-92d9-4d0f-9c51-e64c01d35f13');\n",
       "var x = new MutationObserver(function (mutations, observer) {{\n",
       "        var display = window.getComputedStyle(gd).display;\n",
       "        if (!display || display === 'none') {{\n",
       "            console.log([gd, 'removed!']);\n",
       "            Plotly.purge(gd);\n",
       "            observer.disconnect();\n",
       "        }}\n",
       "}});\n",
       "\n",
       "// Listen for the removal of the full notebook cells\n",
       "var notebookContainer = gd.closest('#notebook-container');\n",
       "if (notebookContainer) {{\n",
       "    x.observe(notebookContainer, {childList: true});\n",
       "}}\n",
       "\n",
       "// Listen for the clearing of the current output cell\n",
       "var outputEl = gd.closest('.output');\n",
       "if (outputEl) {{\n",
       "    x.observe(outputEl, {childList: true});\n",
       "}}\n",
       "\n",
       "                        })                };                });            </script>        </div>"
      ]
     },
     "metadata": {},
     "output_type": "display_data"
    }
   ],
   "source": [
    "import pandas as pd\n",
    "import plotly.graph_objects as go\n",
    "from plotly.subplots import make_subplots\n",
    "\n",
    "# Sample DataFrame\n",
    "df = pd.DataFrame({\n",
    "    'BVP_mean': [0.001391], 'BVP_std': [18.068585], 'EDA_phasic_mean': [0.002865],\n",
    "    'EDA_phasic_min': [0.000028], 'EDA_smna_min': [1.209040e-07], 'EDA_tonic_mean': [-0.683969],\n",
    "    'Resp_mean': [0.081493], 'Resp_std': [2.074925], 'TEMP_mean': [34.128739],\n",
    "    'TEMP_std': [0.016825], 'TEMP_slope': [-0.000289], 'BVP_peak_freq': [0.140192]\n",
    "})\n",
    "\n",
    "# Create a figure with subplots\n",
    "fig = make_subplots(rows=1, cols=1)\n",
    "\n",
    "# Add scatter plot for all columns\n",
    "for column_name in df.columns:\n",
    "    x_data = df.index\n",
    "    y_data = df[column_name]\n",
    "    scatter = go.Scatter(x=x_data, y=y_data, mode='lines+markers', name=column_name)\n",
    "    fig.add_trace(scatter)\n",
    "\n",
    "# Update figure layout\n",
    "fig.update_layout(title='Real-time Graph', xaxis_title='Index', yaxis_title='Values')\n",
    "\n",
    "# Define a callback function to update the graph on click\n",
    "def update_graph(trace, points, selector):\n",
    "    x_data = df.index\n",
    "    for trace in fig.data:\n",
    "        trace.y = df[trace.name]\n",
    "        trace.x = x_data\n",
    "\n",
    "# Assign the callback function to the graph\n",
    "for trace in fig.data:\n",
    "    trace.on_click(update_graph)\n",
    "\n",
    "# Show the figure\n",
    "fig.show()\n"
   ]
  },
  {
   "cell_type": "code",
   "execution_count": null,
   "id": "bf823486",
   "metadata": {},
   "outputs": [],
   "source": []
  }
 ],
 "metadata": {
  "kernelspec": {
   "display_name": "Python 3 (ipykernel)",
   "language": "python",
   "name": "python3"
  },
  "language_info": {
   "codemirror_mode": {
    "name": "ipython",
    "version": 3
   },
   "file_extension": ".py",
   "mimetype": "text/x-python",
   "name": "python",
   "nbconvert_exporter": "python",
   "pygments_lexer": "ipython3",
   "version": "3.8.0"
  }
 },
 "nbformat": 4,
 "nbformat_minor": 5
}
